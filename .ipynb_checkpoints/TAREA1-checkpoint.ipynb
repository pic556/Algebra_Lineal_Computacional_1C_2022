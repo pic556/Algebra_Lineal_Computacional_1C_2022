{
 "cells": [
  {
   "cell_type": "code",
   "execution_count": 1,
   "id": "aa583305",
   "metadata": {},
   "outputs": [],
   "source": [
    "import numpy as np"
   ]
  },
  {
   "cell_type": "code",
   "execution_count": 3,
   "id": "c4d335b1",
   "metadata": {},
   "outputs": [
    {
     "data": {
      "text/plain": [
       "(-1+0j)"
      ]
     },
     "execution_count": 3,
     "metadata": {},
     "output_type": "execute_result"
    }
   ],
   "source": [
    "1j*1j\n"
   ]
  },
  {
   "cell_type": "code",
   "execution_count": 4,
   "id": "53d20a48",
   "metadata": {},
   "outputs": [
    {
     "data": {
      "text/plain": [
       "(-2+1j)"
      ]
     },
     "execution_count": 4,
     "metadata": {},
     "output_type": "execute_result"
    }
   ],
   "source": [
    "(1+2j)*1j"
   ]
  },
  {
   "cell_type": "code",
   "execution_count": 7,
   "id": "f063f629",
   "metadata": {},
   "outputs": [],
   "source": [
    "A = np.array( [ [ 1 , 2 , 3 , 4 , 5 ] , [ 0 , 1 , 2 , 3 , 4 ] , [ 2 , 3 , 4 , 5 , 6 ] , [ 0 , 0 , 1 , 2 , 3 ] , [ 0 , 0 , 0 , 0 , 1 ] ] )"
   ]
  },
  {
   "cell_type": "code",
   "execution_count": 8,
   "id": "3c8a555b",
   "metadata": {},
   "outputs": [
    {
     "name": "stdout",
     "output_type": "stream",
     "text": [
      "[[1 2 3 4 5]\n",
      " [0 1 2 3 4]\n",
      " [2 3 4 5 6]\n",
      " [0 0 1 2 3]\n",
      " [0 0 0 0 1]]\n"
     ]
    }
   ],
   "source": [
    "print(A)"
   ]
  },
  {
   "cell_type": "code",
   "execution_count": 16,
   "id": "3f504cd4",
   "metadata": {},
   "outputs": [
    {
     "data": {
      "text/plain": [
       "array([[4, 5],\n",
       "       [3, 4]])"
      ]
     },
     "execution_count": 16,
     "metadata": {},
     "output_type": "execute_result"
    }
   ],
   "source": [
    "A[0:2,3:5]"
   ]
  },
  {
   "cell_type": "code",
   "execution_count": 17,
   "id": "ea45312b",
   "metadata": {},
   "outputs": [
    {
     "data": {
      "text/plain": [
       "array([[4, 5],\n",
       "       [3, 4]])"
      ]
     },
     "execution_count": 17,
     "metadata": {},
     "output_type": "execute_result"
    }
   ],
   "source": [
    "A[0:2,3:6]"
   ]
  },
  {
   "cell_type": "markdown",
   "id": "11de1e19",
   "metadata": {},
   "source": [
    "aca podemos ver como de [0:2] es mas bien agarra la fila 0 y 1 , luego del [3:6 o 3:5] es indistinto porque se fijan en la columna numero 3 y 4"
   ]
  },
  {
   "cell_type": "code",
   "execution_count": 19,
   "id": "7e454115",
   "metadata": {},
   "outputs": [
    {
     "data": {
      "text/plain": [
       "array([[4, 5],\n",
       "       [3, 4]])"
      ]
     },
     "execution_count": 19,
     "metadata": {},
     "output_type": "execute_result"
    }
   ],
   "source": [
    "A[:2,3:]"
   ]
  },
  {
   "cell_type": "markdown",
   "id": "f68fbdfc",
   "metadata": {},
   "source": [
    "Mismo concepto solo que eso ayuda ver desde el principio hasta el final"
   ]
  },
  {
   "cell_type": "code",
   "execution_count": 20,
   "id": "9d7402f0",
   "metadata": {},
   "outputs": [
    {
     "data": {
      "text/plain": [
       "array([[1, 2, 3, 4, 5],\n",
       "       [2, 3, 4, 5, 6],\n",
       "       [0, 0, 0, 0, 1]])"
      ]
     },
     "execution_count": 20,
     "metadata": {},
     "output_type": "execute_result"
    }
   ],
   "source": [
    "A[ [ 0 , 2 , 4 ] , : ]"
   ]
  },
  {
   "cell_type": "markdown",
   "id": "7f20f5f0",
   "metadata": {},
   "source": [
    "Agarre las filas 0,2,4 de mi matriz y todas las columnas ,desde el principio hasta el final"
   ]
  },
  {
   "cell_type": "code",
   "execution_count": 22,
   "id": "a6c00d41",
   "metadata": {},
   "outputs": [],
   "source": [
    "ind = np.array( [ 0 , 2 , 4 ] )"
   ]
  },
  {
   "cell_type": "code",
   "execution_count": 24,
   "id": "c71656cf",
   "metadata": {},
   "outputs": [
    {
     "data": {
      "text/plain": [
       "array([[1, 2, 3, 4, 5],\n",
       "       [2, 3, 4, 5, 6],\n",
       "       [0, 0, 0, 0, 1]])"
      ]
     },
     "execution_count": 24,
     "metadata": {},
     "output_type": "execute_result"
    }
   ],
   "source": [
    "A[ ind ]"
   ]
  },
  {
   "cell_type": "code",
   "execution_count": 25,
   "id": "f0bf7d9a",
   "metadata": {},
   "outputs": [
    {
     "data": {
      "text/plain": [
       "array([1, 4, 1])"
      ]
     },
     "execution_count": 25,
     "metadata": {},
     "output_type": "execute_result"
    }
   ],
   "source": [
    "A[ ind , ind]"
   ]
  },
  {
   "cell_type": "code",
   "execution_count": 26,
   "id": "552e599a",
   "metadata": {},
   "outputs": [
    {
     "name": "stdout",
     "output_type": "stream",
     "text": [
      "[[1 2 3 4 5]\n",
      " [0 1 2 3 4]\n",
      " [2 3 4 5 6]\n",
      " [0 0 1 2 3]\n",
      " [0 0 0 0 1]]\n"
     ]
    }
   ],
   "source": [
    "print(A) #OTRAVEZ PARA VER"
   ]
  },
  {
   "cell_type": "markdown",
   "id": "eeaee6e2",
   "metadata": {},
   "source": [
    "si me fijo bien en el A[0,0] = 1 , A[2,2]=4 , A[4,4]=1"
   ]
  },
  {
   "cell_type": "code",
   "execution_count": 32,
   "id": "befd1034",
   "metadata": {},
   "outputs": [
    {
     "data": {
      "text/plain": [
       "array([[1, 2, 0],\n",
       "       [3, 4, 0],\n",
       "       [5, 6, 1]])"
      ]
     },
     "execution_count": 32,
     "metadata": {},
     "output_type": "execute_result"
    }
   ],
   "source": [
    "A[ ind , ind [ : , None ] ]"
   ]
  },
  {
   "cell_type": "code",
   "execution_count": null,
   "id": "e7a57d13",
   "metadata": {},
   "outputs": [],
   "source": []
  },
  {
   "cell_type": "code",
   "execution_count": 33,
   "id": "e9e614dd",
   "metadata": {},
   "outputs": [
    {
     "data": {
      "text/plain": [
       "array([[[1, 2, 3, 4, 5]],\n",
       "\n",
       "       [[2, 3, 4, 5, 6]],\n",
       "\n",
       "       [[0, 0, 0, 0, 1]]])"
      ]
     },
     "execution_count": 33,
     "metadata": {},
     "output_type": "execute_result"
    }
   ],
   "source": [
    "A[ind [ : , None ]]"
   ]
  }
 ],
 "metadata": {
  "kernelspec": {
   "display_name": "Python 3 (ipykernel)",
   "language": "python",
   "name": "python3"
  },
  "language_info": {
   "codemirror_mode": {
    "name": "ipython",
    "version": 3
   },
   "file_extension": ".py",
   "mimetype": "text/x-python",
   "name": "python",
   "nbconvert_exporter": "python",
   "pygments_lexer": "ipython3",
   "version": "3.8.10"
  }
 },
 "nbformat": 4,
 "nbformat_minor": 5
}
