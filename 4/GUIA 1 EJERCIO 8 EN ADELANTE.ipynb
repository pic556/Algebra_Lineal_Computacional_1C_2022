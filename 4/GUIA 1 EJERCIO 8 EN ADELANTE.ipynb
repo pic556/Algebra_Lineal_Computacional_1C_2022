{
 "cells": [
  {
   "cell_type": "code",
   "execution_count": 1,
   "id": "downtown-submission",
   "metadata": {},
   "outputs": [],
   "source": [
    "import numpy as np"
   ]
  },
  {
   "cell_type": "code",
   "execution_count": 2,
   "id": "aerial-madagascar",
   "metadata": {},
   "outputs": [],
   "source": [
    "A = np.array([[1, 4, -1,3], [2, 1, -3,-1], [0, 2, 1,5]])"
   ]
  },
  {
   "cell_type": "code",
   "execution_count": 3,
   "id": "blond-monthly",
   "metadata": {},
   "outputs": [],
   "source": [
    "def row_echelon(M):\n",
    "    \"\"\" Return Row Echelon Form of matrix A \"\"\"\n",
    "    A = np.copy(M)\n",
    "    if (issubclass(A.dtype.type, np.integer)):\n",
    "        A = A.astype(float)\n",
    "    #A = M.astype(float)\n",
    "    # if matrix A has no columns or rows,\n",
    "    # it is already in REF, so we return itself\n",
    "    r, c = A.shape\n",
    "    if r == 0 or c == 0:\n",
    "        return A\n",
    "\n",
    "    # we search for non-zero element in the first column\n",
    "    for i in range(len(A)):\n",
    "        if A[i,0] != 0:\n",
    "            break\n",
    "    else:\n",
    "        # if all elements in the first column is zero,\n",
    "        # we perform REF on matrix from second column\n",
    "        B = row_echelon(A[:,1:])\n",
    "        # and then add the first zero-column back\n",
    "        return np.hstack([A[:,:1], B])\n",
    "\n",
    "    # if non-zero element happens not in the first row,\n",
    "    # we switch rows\n",
    "    if i > 0:\n",
    "        ith_row = A[i].copy()\n",
    "        A[i] = A[0]\n",
    "        A[0] = ith_row\n",
    "\n",
    "    # we divide first row by first element in it\n",
    "    A[0] = A[0] / A[0,0]\n",
    "    # we subtract all subsequent rows with first row (it has 1 now as first element)\n",
    "    # multiplied by the corresponding element in the first column\n",
    "    A[1:] -= A[0] * A[1:,0:1]\n",
    "\n",
    "    # we perform REF on matrix from second row, from second column\n",
    "    B = row_echelon(A[1:,1:])\n",
    "\n",
    "    # we add first row and first (zero) column, and return\n",
    "    return np.vstack([A[:1], np.hstack([A[1:,:1], B]) ])"
   ]
  },
  {
   "cell_type": "code",
   "execution_count": 4,
   "id": "induced-legend",
   "metadata": {},
   "outputs": [
    {
     "data": {
      "text/plain": [
       "array([[ 1.        ,  4.        , -1.        ,  3.        ],\n",
       "       [ 0.        ,  1.        ,  0.14285714,  1.        ],\n",
       "       [ 0.        ,  0.        ,  1.        ,  4.2       ]])"
      ]
     },
     "execution_count": 4,
     "metadata": {},
     "output_type": "execute_result"
    }
   ],
   "source": [
    "row_echelon(A)"
   ]
  },
  {
   "cell_type": "code",
   "execution_count": 5,
   "id": "fifth-interference",
   "metadata": {},
   "outputs": [],
   "source": [
    "import matplotlib.pyplot as plt "
   ]
  },
  {
   "cell_type": "code",
   "execution_count": 6,
   "id": "funky-playlist",
   "metadata": {},
   "outputs": [],
   "source": [
    "res = np.array([0,0,0])"
   ]
  },
  {
   "cell_type": "code",
   "execution_count": 7,
   "id": "mighty-jumping",
   "metadata": {},
   "outputs": [
    {
     "ename": "LinAlgError",
     "evalue": "Last 2 dimensions of the array must be square",
     "output_type": "error",
     "traceback": [
      "\u001b[0;31m---------------------------------------------------------------------------\u001b[0m",
      "\u001b[0;31mLinAlgError\u001b[0m                               Traceback (most recent call last)",
      "\u001b[0;32m<ipython-input-7-d131ee2adf50>\u001b[0m in \u001b[0;36m<module>\u001b[0;34m\u001b[0m\n\u001b[0;32m----> 1\u001b[0;31m \u001b[0mnp\u001b[0m\u001b[0;34m.\u001b[0m\u001b[0mlinalg\u001b[0m\u001b[0;34m.\u001b[0m\u001b[0msolve\u001b[0m\u001b[0;34m(\u001b[0m\u001b[0mA\u001b[0m\u001b[0;34m,\u001b[0m \u001b[0mres\u001b[0m\u001b[0;34m)\u001b[0m\u001b[0;34m\u001b[0m\u001b[0;34m\u001b[0m\u001b[0m\n\u001b[0m",
      "\u001b[0;32m~/.local/lib/python3.9/site-packages/numpy/core/overrides.py\u001b[0m in \u001b[0;36msolve\u001b[0;34m(*args, **kwargs)\u001b[0m\n",
      "\u001b[0;32m~/.local/lib/python3.9/site-packages/numpy/linalg/linalg.py\u001b[0m in \u001b[0;36msolve\u001b[0;34m(a, b)\u001b[0m\n\u001b[1;32m    378\u001b[0m     \u001b[0ma\u001b[0m\u001b[0;34m,\u001b[0m \u001b[0m_\u001b[0m \u001b[0;34m=\u001b[0m \u001b[0m_makearray\u001b[0m\u001b[0;34m(\u001b[0m\u001b[0ma\u001b[0m\u001b[0;34m)\u001b[0m\u001b[0;34m\u001b[0m\u001b[0;34m\u001b[0m\u001b[0m\n\u001b[1;32m    379\u001b[0m     \u001b[0m_assert_stacked_2d\u001b[0m\u001b[0;34m(\u001b[0m\u001b[0ma\u001b[0m\u001b[0;34m)\u001b[0m\u001b[0;34m\u001b[0m\u001b[0;34m\u001b[0m\u001b[0m\n\u001b[0;32m--> 380\u001b[0;31m     \u001b[0m_assert_stacked_square\u001b[0m\u001b[0;34m(\u001b[0m\u001b[0ma\u001b[0m\u001b[0;34m)\u001b[0m\u001b[0;34m\u001b[0m\u001b[0;34m\u001b[0m\u001b[0m\n\u001b[0m\u001b[1;32m    381\u001b[0m     \u001b[0mb\u001b[0m\u001b[0;34m,\u001b[0m \u001b[0mwrap\u001b[0m \u001b[0;34m=\u001b[0m \u001b[0m_makearray\u001b[0m\u001b[0;34m(\u001b[0m\u001b[0mb\u001b[0m\u001b[0;34m)\u001b[0m\u001b[0;34m\u001b[0m\u001b[0;34m\u001b[0m\u001b[0m\n\u001b[1;32m    382\u001b[0m     \u001b[0mt\u001b[0m\u001b[0;34m,\u001b[0m \u001b[0mresult_t\u001b[0m \u001b[0;34m=\u001b[0m \u001b[0m_commonType\u001b[0m\u001b[0;34m(\u001b[0m\u001b[0ma\u001b[0m\u001b[0;34m,\u001b[0m \u001b[0mb\u001b[0m\u001b[0;34m)\u001b[0m\u001b[0;34m\u001b[0m\u001b[0;34m\u001b[0m\u001b[0m\n",
      "\u001b[0;32m~/.local/lib/python3.9/site-packages/numpy/linalg/linalg.py\u001b[0m in \u001b[0;36m_assert_stacked_square\u001b[0;34m(*arrays)\u001b[0m\n\u001b[1;32m    201\u001b[0m         \u001b[0mm\u001b[0m\u001b[0;34m,\u001b[0m \u001b[0mn\u001b[0m \u001b[0;34m=\u001b[0m \u001b[0ma\u001b[0m\u001b[0;34m.\u001b[0m\u001b[0mshape\u001b[0m\u001b[0;34m[\u001b[0m\u001b[0;34m-\u001b[0m\u001b[0;36m2\u001b[0m\u001b[0;34m:\u001b[0m\u001b[0;34m]\u001b[0m\u001b[0;34m\u001b[0m\u001b[0;34m\u001b[0m\u001b[0m\n\u001b[1;32m    202\u001b[0m         \u001b[0;32mif\u001b[0m \u001b[0mm\u001b[0m \u001b[0;34m!=\u001b[0m \u001b[0mn\u001b[0m\u001b[0;34m:\u001b[0m\u001b[0;34m\u001b[0m\u001b[0;34m\u001b[0m\u001b[0m\n\u001b[0;32m--> 203\u001b[0;31m             \u001b[0;32mraise\u001b[0m \u001b[0mLinAlgError\u001b[0m\u001b[0;34m(\u001b[0m\u001b[0;34m'Last 2 dimensions of the array must be square'\u001b[0m\u001b[0;34m)\u001b[0m\u001b[0;34m\u001b[0m\u001b[0;34m\u001b[0m\u001b[0m\n\u001b[0m\u001b[1;32m    204\u001b[0m \u001b[0;34m\u001b[0m\u001b[0m\n\u001b[1;32m    205\u001b[0m \u001b[0;32mdef\u001b[0m \u001b[0m_assert_finite\u001b[0m\u001b[0;34m(\u001b[0m\u001b[0;34m*\u001b[0m\u001b[0marrays\u001b[0m\u001b[0;34m)\u001b[0m\u001b[0;34m:\u001b[0m\u001b[0;34m\u001b[0m\u001b[0;34m\u001b[0m\u001b[0m\n",
      "\u001b[0;31mLinAlgError\u001b[0m: Last 2 dimensions of the array must be square"
     ]
    }
   ],
   "source": [
    "np.linalg.solve(A, res)"
   ]
  },
  {
   "cell_type": "code",
   "execution_count": 12,
   "id": "celtic-bangladesh",
   "metadata": {},
   "outputs": [],
   "source": [
    "B = np.array([[1-1j, 1j], [2, -1+1j]])"
   ]
  },
  {
   "cell_type": "code",
   "execution_count": 13,
   "id": "offensive-allowance",
   "metadata": {},
   "outputs": [
    {
     "data": {
      "text/plain": [
       "array([[ 1. +0.j , -0.5+0.5j],\n",
       "       [ 0. +0.j ,  0. +0.j ]])"
      ]
     },
     "execution_count": 13,
     "metadata": {},
     "output_type": "execute_result"
    }
   ],
   "source": [
    "row_echelon(B)"
   ]
  },
  {
   "cell_type": "code",
   "execution_count": 29,
   "id": "balanced-retail",
   "metadata": {},
   "outputs": [],
   "source": [
    "C = np.array([[1, 1,2],[1,3,5], [1, 1, 4],[5,1,1]])"
   ]
  },
  {
   "cell_type": "code",
   "execution_count": 30,
   "id": "alien-bonus",
   "metadata": {},
   "outputs": [
    {
     "data": {
      "text/plain": [
       "array([[1. , 1. , 2. ],\n",
       "       [0. , 1. , 1.5],\n",
       "       [0. , 0. , 1. ],\n",
       "       [0. , 0. , 0. ]])"
      ]
     },
     "execution_count": 30,
     "metadata": {},
     "output_type": "execute_result"
    }
   ],
   "source": [
    "row_echelon(C)"
   ]
  },
  {
   "cell_type": "code",
   "execution_count": 31,
   "id": "surgical-winner",
   "metadata": {},
   "outputs": [
    {
     "data": {
      "text/plain": [
       "array([[1. , 1. , 2. ],\n",
       "       [0. , 1. , 1.5],\n",
       "       [0. , 0. , 1. ]])"
      ]
     },
     "execution_count": 31,
     "metadata": {},
     "output_type": "execute_result"
    }
   ],
   "source": [
    "D = np.array([1,3,5], [1, 1, 4]])\n",
    "row_echelon(D)"
   ]
  },
  {
   "cell_type": "code",
   "execution_count": 32,
   "id": "incredible-thomson",
   "metadata": {},
   "outputs": [
    {
     "data": {
      "text/plain": [
       "array([[1. , 1. , 2. ],\n",
       "       [0. , 1. , 1.5],\n",
       "       [0. , 0. , 1. ]])"
      ]
     },
     "execution_count": 32,
     "metadata": {},
     "output_type": "execute_result"
    }
   ],
   "source": [
    "E = np.array([[1, 1,2],[1,3,5], [5,1,1]])\n",
    "row_echelon(E)"
   ]
  },
  {
   "cell_type": "code",
   "execution_count": 34,
   "id": "weird-sailing",
   "metadata": {},
   "outputs": [
    {
     "data": {
      "text/plain": [
       "array([[1.  , 1.  , 2.  ],\n",
       "       [0.  , 1.  , 2.25],\n",
       "       [0.  , 0.  , 1.  ]])"
      ]
     },
     "execution_count": 34,
     "metadata": {},
     "output_type": "execute_result"
    }
   ],
   "source": [
    "f = np.array([[1, 1,2], [1, 1, 4],[5,1,1]])\n",
    "row_echelon(f)"
   ]
  },
  {
   "cell_type": "code",
   "execution_count": 35,
   "id": "funny-engineer",
   "metadata": {},
   "outputs": [
    {
     "data": {
      "text/plain": [
       "array([[1.+0.j, 1.+0.j, 1.+0.j, 1.+0.j],\n",
       "       [0.+0.j, 1.+0.j, 0.-1.j, 0.-1.j],\n",
       "       [0.+0.j, 0.+0.j, 1.+0.j, 0.+0.j],\n",
       "       [0.+0.j, 0.+0.j, 0.+0.j, 1.-0.j]])"
      ]
     },
     "execution_count": 35,
     "metadata": {},
     "output_type": "execute_result"
    }
   ],
   "source": [
    "g = np.array([[1,1,1,1],[0,1j,1,1],[0,0,1j,0],[1,1,0,0]])\n",
    "row_echelon(g)"
   ]
  },
  {
   "cell_type": "code",
   "execution_count": 40,
   "id": "clear-rebate",
   "metadata": {},
   "outputs": [
    {
     "data": {
      "text/plain": [
       "-5.000000000000001"
      ]
     },
     "execution_count": 40,
     "metadata": {},
     "output_type": "execute_result"
    }
   ],
   "source": [
    "h = np.array([[1, 0,0,2], [0, -2, 3,-1],[-1,0,1,4],[0,1,-2,0]])\n",
    "np.linalg.det(h)"
   ]
  },
  {
   "cell_type": "code",
   "execution_count": null,
   "id": "molecular-kingston",
   "metadata": {},
   "outputs": [],
   "source": []
  }
 ],
 "metadata": {
  "kernelspec": {
   "display_name": "Python 3 (ipykernel)",
   "language": "python",
   "name": "python3"
  },
  "language_info": {
   "codemirror_mode": {
    "name": "ipython",
    "version": 3
   },
   "file_extension": ".py",
   "mimetype": "text/x-python",
   "name": "python",
   "nbconvert_exporter": "python",
   "pygments_lexer": "ipython3",
   "version": "3.9.10"
  }
 },
 "nbformat": 4,
 "nbformat_minor": 5
}
