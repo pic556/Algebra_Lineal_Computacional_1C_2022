{
 "cells": [
  {
   "cell_type": "code",
   "execution_count": 1,
   "id": "7da2534b",
   "metadata": {},
   "outputs": [],
   "source": [
    "import numpy as np"
   ]
  },
  {
   "cell_type": "markdown",
   "id": "224fc878",
   "metadata": {},
   "source": [
    "PRACTICA 1\n",
    "\n",
    "EJERCICIO 1"
   ]
  },
  {
   "cell_type": "code",
   "execution_count": 2,
   "id": "7de9adae",
   "metadata": {},
   "outputs": [
    {
     "data": {
      "text/plain": [
       "(-1+0j)"
      ]
     },
     "execution_count": 2,
     "metadata": {},
     "output_type": "execute_result"
    }
   ],
   "source": [
    "1j*1j\n"
   ]
  },
  {
   "cell_type": "code",
   "execution_count": 3,
   "id": "c10cfbaa",
   "metadata": {},
   "outputs": [
    {
     "data": {
      "text/plain": [
       "(-2+1j)"
      ]
     },
     "execution_count": 3,
     "metadata": {},
     "output_type": "execute_result"
    }
   ],
   "source": [
    "(1+2j)*1j"
   ]
  },
  {
   "cell_type": "code",
   "execution_count": 4,
   "id": "043d26f0",
   "metadata": {},
   "outputs": [],
   "source": [
    "A = np.array( [ [ 1 , 2 , 3 , 4 , 5 ] , [ 0 , 1 , 2 , 3 , 4 ] , [ 2 , 3 , 4 , 5 , 6 ] , [ 0 , 0 , 1 , 2 , 3 ] , [ 0 , 0 , 0 , 0 , 1 ] ] )"
   ]
  },
  {
   "cell_type": "code",
   "execution_count": 5,
   "id": "a05b2409",
   "metadata": {},
   "outputs": [
    {
     "name": "stdout",
     "output_type": "stream",
     "text": [
      "[[1 2 3 4 5]\n",
      " [0 1 2 3 4]\n",
      " [2 3 4 5 6]\n",
      " [0 0 1 2 3]\n",
      " [0 0 0 0 1]]\n"
     ]
    }
   ],
   "source": [
    "print(A)"
   ]
  },
  {
   "cell_type": "code",
   "execution_count": 6,
   "id": "15a1afcc",
   "metadata": {},
   "outputs": [
    {
     "data": {
      "text/plain": [
       "array([[4, 5],\n",
       "       [3, 4]])"
      ]
     },
     "execution_count": 6,
     "metadata": {},
     "output_type": "execute_result"
    }
   ],
   "source": [
    "A[0:2,3:5]"
   ]
  },
  {
   "cell_type": "code",
   "execution_count": 7,
   "id": "6930fabe",
   "metadata": {},
   "outputs": [
    {
     "data": {
      "text/plain": [
       "array([[4, 5],\n",
       "       [3, 4]])"
      ]
     },
     "execution_count": 7,
     "metadata": {},
     "output_type": "execute_result"
    }
   ],
   "source": [
    "A[0:2,3:6]"
   ]
  },
  {
   "cell_type": "markdown",
   "id": "7348122a",
   "metadata": {},
   "source": [
    "aca podemos ver como de [0:2] es mas bien agarra la fila 0 y 1 , luego del [3:6 o 3:5] es indistinto porque se fijan en la columna numero 3 y 4"
   ]
  },
  {
   "cell_type": "code",
   "execution_count": 8,
   "id": "679360ce",
   "metadata": {},
   "outputs": [
    {
     "data": {
      "text/plain": [
       "array([[4, 5],\n",
       "       [3, 4]])"
      ]
     },
     "execution_count": 8,
     "metadata": {},
     "output_type": "execute_result"
    }
   ],
   "source": [
    "A[:2,3:]"
   ]
  },
  {
   "cell_type": "markdown",
   "id": "a4910e53",
   "metadata": {},
   "source": [
    "Mismo concepto solo que eso ayuda ver desde el principio hasta el final"
   ]
  },
  {
   "cell_type": "code",
   "execution_count": 9,
   "id": "5cfcb878",
   "metadata": {},
   "outputs": [
    {
     "data": {
      "text/plain": [
       "array([[1, 2, 3, 4, 5],\n",
       "       [2, 3, 4, 5, 6],\n",
       "       [0, 0, 0, 0, 1]])"
      ]
     },
     "execution_count": 9,
     "metadata": {},
     "output_type": "execute_result"
    }
   ],
   "source": [
    "A[ [ 0 , 2 , 4 ] , : ]"
   ]
  },
  {
   "cell_type": "markdown",
   "id": "50e2fdff",
   "metadata": {},
   "source": [
    "Agarre las filas 0,2,4 de mi matriz y todas las columnas ,desde el principio hasta el final"
   ]
  },
  {
   "cell_type": "code",
   "execution_count": 10,
   "id": "346f0138",
   "metadata": {},
   "outputs": [],
   "source": [
    "ind = np.array( [ 0 , 2 , 4 ] )"
   ]
  },
  {
   "cell_type": "code",
   "execution_count": 11,
   "id": "ce39e40f",
   "metadata": {},
   "outputs": [
    {
     "data": {
      "text/plain": [
       "array([[1, 2, 3, 4, 5],\n",
       "       [2, 3, 4, 5, 6],\n",
       "       [0, 0, 0, 0, 1]])"
      ]
     },
     "execution_count": 11,
     "metadata": {},
     "output_type": "execute_result"
    }
   ],
   "source": [
    "A[ ind ]"
   ]
  },
  {
   "cell_type": "code",
   "execution_count": 12,
   "id": "6734bc12",
   "metadata": {},
   "outputs": [
    {
     "data": {
      "text/plain": [
       "array([1, 4, 1])"
      ]
     },
     "execution_count": 12,
     "metadata": {},
     "output_type": "execute_result"
    }
   ],
   "source": [
    "A[ ind , ind]"
   ]
  },
  {
   "cell_type": "code",
   "execution_count": 13,
   "id": "a1949f56",
   "metadata": {},
   "outputs": [
    {
     "name": "stdout",
     "output_type": "stream",
     "text": [
      "[[1 2 3 4 5]\n",
      " [0 1 2 3 4]\n",
      " [2 3 4 5 6]\n",
      " [0 0 1 2 3]\n",
      " [0 0 0 0 1]]\n"
     ]
    }
   ],
   "source": [
    "print(A) #OTRAVEZ PARA VER"
   ]
  },
  {
   "cell_type": "markdown",
   "id": "5e8a2ba3",
   "metadata": {},
   "source": [
    "si me fijo bien en el A[0,0] = 1 , A[2,2]=4 , A[4,4]=1"
   ]
  },
  {
   "cell_type": "code",
   "execution_count": 14,
   "id": "00afd3bc",
   "metadata": {},
   "outputs": [
    {
     "data": {
      "text/plain": [
       "array([[1, 2, 0],\n",
       "       [3, 4, 0],\n",
       "       [5, 6, 1]])"
      ]
     },
     "execution_count": 14,
     "metadata": {},
     "output_type": "execute_result"
    }
   ],
   "source": [
    "A[ ind , ind [ : , None ] ]"
   ]
  },
  {
   "cell_type": "code",
   "execution_count": 15,
   "id": "21fa69dd",
   "metadata": {},
   "outputs": [
    {
     "data": {
      "text/plain": [
       "array([1, 4, 1])"
      ]
     },
     "execution_count": 15,
     "metadata": {},
     "output_type": "execute_result"
    }
   ],
   "source": [
    "A[ ind , ind [ : ] ]"
   ]
  },
  {
   "cell_type": "markdown",
   "id": "ac4f4aa5",
   "metadata": {},
   "source": [
    "EJERCICIO 4"
   ]
  },
  {
   "cell_type": "code",
   "execution_count": 16,
   "id": "bd431f66",
   "metadata": {
    "scrolled": true
   },
   "outputs": [],
   "source": [
    "import matplotlib.pyplot as plt "
   ]
  },
  {
   "cell_type": "code",
   "execution_count": 17,
   "id": "783dae76",
   "metadata": {},
   "outputs": [],
   "source": [
    "B = np.array( [ [ 1 , 1 , 1 ] , [ 4 , 2 , 1  ] , [ 9 , 3 , 1 ]] )"
   ]
  },
  {
   "cell_type": "code",
   "execution_count": 18,
   "id": "541477ed",
   "metadata": {},
   "outputs": [],
   "source": [
    "res = np.array([1,2,0])"
   ]
  },
  {
   "cell_type": "code",
   "execution_count": 19,
   "id": "6c49eefa",
   "metadata": {},
   "outputs": [
    {
     "data": {
      "text/plain": [
       "array([-1.5,  5.5, -3. ])"
      ]
     },
     "execution_count": 19,
     "metadata": {},
     "output_type": "execute_result"
    }
   ],
   "source": [
    "np.linalg.solve(B, res)"
   ]
  },
  {
   "cell_type": "markdown",
   "id": "cce56b73",
   "metadata": {},
   "source": [
    "primero hice mi matriz , luego pase el resultado supuesto por ver y con linalg veo los resultados de x ,y ,z"
   ]
  },
  {
   "cell_type": "code",
   "execution_count": 20,
   "id": "96bc7466",
   "metadata": {},
   "outputs": [],
   "source": [
    "xx = np.array( [ 1 , 2 , 3 ] )"
   ]
  },
  {
   "cell_type": "code",
   "execution_count": 21,
   "id": "83087455",
   "metadata": {},
   "outputs": [],
   "source": [
    "yy = np.array( [ 1 , 2 , 0 ] )"
   ]
  },
  {
   "cell_type": "code",
   "execution_count": 33,
   "id": "7b52895a",
   "metadata": {},
   "outputs": [],
   "source": [
    "x = np.linspace( 0 , 4 , 100 ) #gene r a 100 puntos e q ui e s p a ci a d o s e n t r e 0 y 4 ."
   ]
  },
  {
   "cell_type": "code",
   "execution_count": 35,
   "id": "3d54dc9e",
   "metadata": {},
   "outputs": [],
   "source": [
    "f = lambda t:-1.5*t**2+5.5*t+-3 #e s t o gene r a una f u n ci o n f de t ."
   ]
  },
  {
   "cell_type": "code",
   "execution_count": 40,
   "id": "c62d53ca",
   "metadata": {
    "scrolled": true
   },
   "outputs": [
    {
     "data": {
      "image/png": "[encoded data removed]",
      "text/plain": [
       "<Figure size 432x288 with 1 Axes>"
      ]
     },
     "metadata": {
      "needs_background": "light"
     },
     "output_type": "display_data"
    }
   ],
   "source": [
    "plt.plot( xx , yy ,\"*\")\n",
    "plt.plot(x,f(x))\n",
    "plt.show( )"
   ]
  },
  {
   "cell_type": "code",
   "execution_count": null,
   "id": "ea43b3bf",
   "metadata": {},
   "outputs": [],
   "source": []
  }
 ],
 "metadata": {
  "kernelspec": {
   "display_name": "Python 3 (ipykernel)",
   "language": "python",
   "name": "python3"
  },
  "language_info": {
   "codemirror_mode": {
    "name": "ipython",
    "version": 3
   },
   "file_extension": ".py",
   "mimetype": "text/x-python",
   "name": "python",
   "nbconvert_exporter": "python",
   "pygments_lexer": "ipython3",
   "version": "3.8.10"
  }
 },
 "nbformat": 4,
 "nbformat_minor": 5
}
