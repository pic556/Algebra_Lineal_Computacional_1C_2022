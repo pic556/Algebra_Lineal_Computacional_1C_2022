{
 "cells": [
  {
   "cell_type": "code",
   "execution_count": 1,
   "id": "7da2534b",
   "metadata": {},
   "outputs": [
    {
     "ename": "ModuleNotFoundError",
     "evalue": "No module named 'numpy'",
     "output_type": "error",
     "traceback": [
      "\u001b[0;31m---------------------------------------------------------------------------\u001b[0m",
      "\u001b[0;31mModuleNotFoundError\u001b[0m                       Traceback (most recent call last)",
      "\u001b[0;32m<ipython-input-1-0aa0b027fcb6>\u001b[0m in \u001b[0;36m<module>\u001b[0;34m\u001b[0m\n\u001b[0;32m----> 1\u001b[0;31m \u001b[0;32mimport\u001b[0m \u001b[0mnumpy\u001b[0m \u001b[0;32mas\u001b[0m \u001b[0mnp\u001b[0m\u001b[0;34m\u001b[0m\u001b[0;34m\u001b[0m\u001b[0m\n\u001b[0m",
      "\u001b[0;31mModuleNotFoundError\u001b[0m: No module named 'numpy'"
     ]
    }
   ],
   "source": [
    "import numpy as np"
   ]
  },
  {
   "cell_type": "markdown",
   "id": "224fc878",
   "metadata": {},
   "source": [
    "PRACTICA 1\n",
    "\n",
    "EJERCICIO 1"
   ]
  },
  {
   "cell_type": "code",
   "execution_count": null,
   "id": "7de9adae",
   "metadata": {},
   "outputs": [],
   "source": [
    "1j*1j\n"
   ]
  },
  {
   "cell_type": "code",
   "execution_count": null,
   "id": "c10cfbaa",
   "metadata": {},
   "outputs": [],
   "source": [
    "(1+2j)*1j"
   ]
  },
  {
   "cell_type": "code",
   "execution_count": null,
   "id": "043d26f0",
   "metadata": {},
   "outputs": [],
   "source": [
    "A = np.array( [ [ 1 , 2 , 3 , 4 , 5 ] , [ 0 , 1 , 2 , 3 , 4 ] , [ 2 , 3 , 4 , 5 , 6 ] , [ 0 , 0 , 1 , 2 , 3 ] , [ 0 , 0 , 0 , 0 , 1 ] ] )"
   ]
  },
  {
   "cell_type": "code",
   "execution_count": null,
   "id": "a05b2409",
   "metadata": {},
   "outputs": [],
   "source": [
    "print(A)"
   ]
  },
  {
   "cell_type": "code",
   "execution_count": null,
   "id": "15a1afcc",
   "metadata": {},
   "outputs": [],
   "source": [
    "A[0:2,3:5]"
   ]
  },
  {
   "cell_type": "code",
   "execution_count": null,
   "id": "6930fabe",
   "metadata": {},
   "outputs": [],
   "source": [
    "A[0:2,3:6]"
   ]
  },
  {
   "cell_type": "markdown",
   "id": "7348122a",
   "metadata": {},
   "source": [
    "aca podemos ver como de [0:2] es mas bien agarra la fila 0 y 1 , luego del [3:6 o 3:5] es indistinto porque se fijan en la columna numero 3 y 4"
   ]
  },
  {
   "cell_type": "code",
   "execution_count": null,
   "id": "679360ce",
   "metadata": {},
   "outputs": [],
   "source": [
    "A[:2,3:]"
   ]
  },
  {
   "cell_type": "markdown",
   "id": "a4910e53",
   "metadata": {},
   "source": [
    "Mismo concepto solo que eso ayuda ver desde el principio hasta el final"
   ]
  },
  {
   "cell_type": "code",
   "execution_count": null,
   "id": "5cfcb878",
   "metadata": {},
   "outputs": [],
   "source": [
    "A[ [ 0 , 2 , 4 ] , : ]"
   ]
  },
  {
   "cell_type": "markdown",
   "id": "50e2fdff",
   "metadata": {},
   "source": [
    "Agarre las filas 0,2,4 de mi matriz y todas las columnas ,desde el principio hasta el final"
   ]
  },
  {
   "cell_type": "code",
   "execution_count": null,
   "id": "346f0138",
   "metadata": {},
   "outputs": [],
   "source": [
    "ind = np.array( [ 0 , 2 , 4 ] )"
   ]
  },
  {
   "cell_type": "code",
   "execution_count": null,
   "id": "ce39e40f",
   "metadata": {},
   "outputs": [],
   "source": [
    "A[ ind ]"
   ]
  },
  {
   "cell_type": "code",
   "execution_count": null,
   "id": "6734bc12",
   "metadata": {},
   "outputs": [],
   "source": [
    "A[ ind , ind]"
   ]
  },
  {
   "cell_type": "code",
   "execution_count": null,
   "id": "a1949f56",
   "metadata": {},
   "outputs": [],
   "source": [
    "print(A) #OTRAVEZ PARA VER"
   ]
  },
  {
   "cell_type": "markdown",
   "id": "5e8a2ba3",
   "metadata": {},
   "source": [
    "si me fijo bien en el A[0,0] = 1 , A[2,2]=4 , A[4,4]=1"
   ]
  },
  {
   "cell_type": "code",
   "execution_count": null,
   "id": "00afd3bc",
   "metadata": {},
   "outputs": [],
   "source": [
    "A[ ind , ind [ : , None ] ]"
   ]
  },
  {
   "cell_type": "code",
   "execution_count": null,
   "id": "21fa69dd",
   "metadata": {},
   "outputs": [],
   "source": [
    "A[ ind , ind [ : ] ]"
   ]
  },
  {
   "cell_type": "markdown",
   "id": "ac4f4aa5",
   "metadata": {},
   "source": [
    "EJERCICIO 4"
   ]
  },
  {
   "cell_type": "code",
   "execution_count": null,
   "id": "bd431f66",
   "metadata": {
    "scrolled": true
   },
   "outputs": [],
   "source": [
    "import matplotlib.pyplot as plt "
   ]
  },
  {
   "cell_type": "code",
   "execution_count": null,
   "id": "783dae76",
   "metadata": {},
   "outputs": [],
   "source": [
    "B = np.array( [ [ 1 , 1 , 1 ] , [ 4 , 2 , 1  ] , [ 9 , 3 , 1 ]] )"
   ]
  },
  {
   "cell_type": "code",
   "execution_count": null,
   "id": "541477ed",
   "metadata": {},
   "outputs": [],
   "source": [
    "res = np.array([1,2,0])"
   ]
  },
  {
   "cell_type": "code",
   "execution_count": 2,
   "id": "6c49eefa",
   "metadata": {},
   "outputs": [
    {
     "ename": "NameError",
     "evalue": "name 'np' is not defined",
     "output_type": "error",
     "traceback": [
      "\u001b[0;31m---------------------------------------------------------------------------\u001b[0m",
      "\u001b[0;31mNameError\u001b[0m                                 Traceback (most recent call last)",
      "\u001b[0;32m<ipython-input-2-a93f453952e9>\u001b[0m in \u001b[0;36m<module>\u001b[0;34m\u001b[0m\n\u001b[0;32m----> 1\u001b[0;31m \u001b[0mnp\u001b[0m\u001b[0;34m.\u001b[0m\u001b[0mlinalg\u001b[0m\u001b[0;34m.\u001b[0m\u001b[0msolve\u001b[0m\u001b[0;34m(\u001b[0m\u001b[0mB\u001b[0m\u001b[0;34m,\u001b[0m \u001b[0mres\u001b[0m\u001b[0;34m)\u001b[0m\u001b[0;34m\u001b[0m\u001b[0;34m\u001b[0m\u001b[0m\n\u001b[0m",
      "\u001b[0;31mNameError\u001b[0m: name 'np' is not defined"
     ]
    }
   ],
   "source": [
    "np.linalg.solve(B, res)"
   ]
  },
  {
   "cell_type": "markdown",
   "id": "cce56b73",
   "metadata": {},
   "source": [
    "primero hice mi matriz , luego pase el resultado supuesto por ver y con linalg veo los resultados de x ,y ,z"
   ]
  },
  {
   "cell_type": "code",
   "execution_count": null,
   "id": "96bc7466",
   "metadata": {},
   "outputs": [],
   "source": [
    "xx = np.array( [ 1 , 2 , 3 ] )"
   ]
  },
  {
   "cell_type": "code",
   "execution_count": null,
   "id": "83087455",
   "metadata": {},
   "outputs": [],
   "source": [
    "yy = np.array( [ 1 , 2 , 0 ] )"
   ]
  },
  {
   "cell_type": "code",
   "execution_count": null,
   "id": "7b52895a",
   "metadata": {},
   "outputs": [],
   "source": [
    "x = np.linspace( 0 , 4 , 100 ) #gene r a 100 puntos e q ui e s p a ci a d o s e n t r e 0 y 4 ."
   ]
  },
  {
   "cell_type": "code",
   "execution_count": null,
   "id": "3d54dc9e",
   "metadata": {},
   "outputs": [],
   "source": [
    "f = lambda t:-1.5*t**2+5.5*t+-3 #e s t o gene r a una f u n ci o n f de t ."
   ]
  },
  {
   "cell_type": "code",
   "execution_count": null,
   "id": "c62d53ca",
   "metadata": {
    "scrolled": true
   },
   "outputs": [],
   "source": [
    "plt.plot( xx , yy ,\"*\")\n",
    "plt.plot(x,f(x))\n",
    "plt.show( )"
   ]
  },
  {
   "cell_type": "code",
   "execution_count": null,
   "id": "ea43b3bf",
   "metadata": {},
   "outputs": [],
   "source": []
  }
 ],
 "metadata": {
  "kernelspec": {
   "display_name": "Python 3 (ipykernel)",
   "language": "python",
   "name": "python3"
  },
  "language_info": {
   "codemirror_mode": {
    "name": "ipython",
    "version": 3
   },
   "file_extension": ".py",
   "mimetype": "text/x-python",
   "name": "python",
   "nbconvert_exporter": "python",
   "pygments_lexer": "ipython3",
   "version": "3.9.10"
  }
 },
 "nbformat": 4,
 "nbformat_minor": 5
}
