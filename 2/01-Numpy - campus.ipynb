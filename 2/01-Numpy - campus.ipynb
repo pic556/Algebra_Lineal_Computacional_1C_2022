{
 "cells": [
  {
   "cell_type": "markdown",
   "id": "a497da01",
   "metadata": {},
   "source": [
    "## Álgebra Lineal Computacional - 1C 2022\n",
    "\n",
    "# Librería Numpy\n",
    "\n",
    "### Contenidos\n",
    "* <a href=\"#generalidades\">Generalidades</a>\n",
    "    * <a href=\"#size\">Tamaño de una matriz</a>\n",
    "    * <a href=\"#transpose\">Transpuesta de una matriz</a>\n",
    "    * <a href=\"#diag\">Diagonal de una matriz</a>\n",
    "    * <a href=\"#det\">Determinante de una matriz</a>\n",
    "    * <a href=\"#norm\">Norma de una matriz o de un vector </a>\n",
    "    * <a href=\"#copy\">Copiar una matriz o un vector</a>\n",
    "* <a href=\"#special\">Matrices \"especiales\"</a>\n",
    "    * <a href=\"#id\">Matriz identidad</a>\n",
    "    * <a href=\"#null\">Matriz nula y vector nulo</a>\n",
    "    * <a href=\"#ones\">Matriz y vector de 1's</a>\n",
    "    * <a href=\"#rand\">Matriz y vector aleatorio</a>\n",
    "    * <a href=\"#arange\">Vector de rango de números (útil para cuando grafiquemos)</a>\n",
    "* <a href=\"#ops\">Operaciones</a>\n",
    "    * <a href=\"#sum\">Suma y resta</a>\n",
    "    * <a href=\"#prod\">Producto y división por un escalar</a>\n",
    "    * <a href=\"#innerprod\">Producto interno, producto matriz-matriz y matriz-vector</a>\n",
    "* <a href=\"#solve\">Sistemas de ecuaciones lineales</a>\n",
    "    * <a href=\"#row_echelon\">La función ``row_echelon`` para escalonar matrices</a>\n",
    "* <a href=\"#coords\">Accediendo a coordenadas de matrices y vectores</a>\n",
    "    \n",
    "***\n",
    "Como siempre, empezamos importando Numpy:"
   ]
  },
  {
   "cell_type": "code",
   "execution_count": null,
   "id": "dc5071ad",
   "metadata": {},
   "outputs": [],
   "source": [
    "import numpy as np"
   ]
  },
  {
   "cell_type": "markdown",
   "id": "f8335136",
   "metadata": {},
   "source": [
    "Para ver algunos ejemplos, definimos las siguientes matrices y vectores:\n",
    "\n",
    "$$A = \\begin{pmatrix} 3 & 2 & 2 \\\\ -1 & 0 & 1 \\\\ -2 & 2 & 4 \\end{pmatrix} \\quad \n",
    "B=\\begin{pmatrix} 0 & 1 & -1 \\\\ 5 & -2 & 1 \\end{pmatrix} \\quad v = (-1, 2, 1)$$"
   ]
  },
  {
   "cell_type": "code",
   "execution_count": null,
   "id": "0d870be8",
   "metadata": {},
   "outputs": [],
   "source": [
    "A = np.array([[3, 2, 2], [-1, 0, 1], [-2, 2, 4]])\n",
    "B = np.array([[0, 1, -1], [5, -2, 1]])\n",
    "v = np.array([-1, 2, 1])"
   ]
  },
  {
   "cell_type": "markdown",
   "id": "c027dded",
   "metadata": {},
   "source": [
    "<a name=\"generalidades\"></a>\n",
    "## Generalidades"
   ]
  },
  {
   "cell_type": "markdown",
   "id": "2f8a3d12",
   "metadata": {},
   "source": [
    "<a name=\"size\"></a>\n",
    "#### Tamaño de una matriz \n",
    "Lo obtenemos agregando ``.shape``. Devuelve una tupla donde el primer elemento corresponde a la cantidad de filas y el segundo a la cantidad de columnas:"
   ]
  },
  {
   "cell_type": "code",
   "execution_count": null,
   "id": "b463d614",
   "metadata": {},
   "outputs": [],
   "source": [
    "B.shape"
   ]
  },
  {
   "cell_type": "code",
   "execution_count": null,
   "id": "a479fe18",
   "metadata": {},
   "outputs": [],
   "source": [
    "# Si solamente quiero conocer la cantidad de filas:\n",
    "B.shape[0]\n",
    "\n",
    "# Si solamente quiero conocer la cantidad de columnas:\n",
    "B.shape[1]"
   ]
  },
  {
   "cell_type": "markdown",
   "id": "c2f0194a",
   "metadata": {},
   "source": [
    "<a name=\"transpose\"></a>\n",
    "#### Transpuesta de una matriz\n",
    "Lo hacemos agregando ``.T`` a la matriz:"
   ]
  },
  {
   "cell_type": "code",
   "execution_count": null,
   "id": "a6b7437a",
   "metadata": {},
   "outputs": [],
   "source": [
    "A.T"
   ]
  },
  {
   "cell_type": "markdown",
   "id": "765779af",
   "metadata": {},
   "source": [
    "_**Obs**_: esto NO modifica a la matriz $A$, sino que crea un nuevo ``array`` que es la transpuesta de $A$.\n",
    "\n",
    "Se puede _mezclar_ con otras operaciones. Por ejemplo, si queremos calcular $(BA)^T$"
   ]
  },
  {
   "cell_type": "code",
   "execution_count": null,
   "id": "4bd74201",
   "metadata": {},
   "outputs": [],
   "source": []
  },
  {
   "cell_type": "markdown",
   "id": "71cab3fc",
   "metadata": {},
   "source": [
    "<a name=\"diag\"></a>\n",
    "#### Diagonal de una matriz\n",
    "Si a ``np.diag`` le introducimos una matriz, nos devuelve su diagonal:"
   ]
  },
  {
   "cell_type": "code",
   "execution_count": null,
   "id": "2305628a",
   "metadata": {},
   "outputs": [],
   "source": [
    "np.diag(A)"
   ]
  },
  {
   "cell_type": "markdown",
   "id": "2a2f5443",
   "metadata": {},
   "source": [
    "Si le introducimos un vector, nos devuelve una matriz cuya diagonal es el vector y tiene $0$'s en los demás lugares:"
   ]
  },
  {
   "cell_type": "code",
   "execution_count": null,
   "id": "c5672f26",
   "metadata": {},
   "outputs": [],
   "source": [
    "np.diag(v)"
   ]
  },
  {
   "cell_type": "markdown",
   "id": "223d54ce",
   "metadata": {},
   "source": [
    "<a name=\"det\"></a>\n",
    "#### Determinante de una matriz\n",
    "Lo calculamos con la función ``np.linalg.det``:"
   ]
  },
  {
   "cell_type": "code",
   "execution_count": null,
   "id": "551607c9",
   "metadata": {},
   "outputs": [],
   "source": [
    "np.linalg.det(A)"
   ]
  },
  {
   "cell_type": "markdown",
   "id": "7bcff9e5",
   "metadata": {},
   "source": [
    "<a name=\"inv\"></a>\n",
    "#### Inversa de una matriz\n",
    "Si la matriz tiene inversa, la calculamos con ``np.linalg.inv``:"
   ]
  },
  {
   "cell_type": "code",
   "execution_count": null,
   "id": "f4971e49",
   "metadata": {},
   "outputs": [],
   "source": [
    "np.linalg.inv(A)"
   ]
  },
  {
   "cell_type": "markdown",
   "id": "6f180b4a",
   "metadata": {},
   "source": [
    "Si la matriz no es cuadrada o no tiene inversa, salta un error:"
   ]
  },
  {
   "cell_type": "code",
   "execution_count": null,
   "id": "31286f5a",
   "metadata": {},
   "outputs": [],
   "source": [
    "np.linalg.inv(B)  # Esta matriz no es cuadrada"
   ]
  },
  {
   "cell_type": "code",
   "execution_count": null,
   "id": "14b35ac6",
   "metadata": {},
   "outputs": [],
   "source": [
    "C = np.array([[0, 1, 1], [0, -1, 1j], [0, -2, 3]]) # Esta matriz no es inversible\n",
    "print(C)\n",
    "np.linalg.inv(C)"
   ]
  },
  {
   "cell_type": "markdown",
   "id": "3c13140e",
   "metadata": {},
   "source": [
    "<a name=\"norm\"></a>\n",
    "#### Norma de una matriz o de un vector \n",
    "Lo calculamos con la función ``np.linalg.norm``:"
   ]
  },
  {
   "cell_type": "code",
   "execution_count": null,
   "id": "9d65f4eb",
   "metadata": {},
   "outputs": [],
   "source": [
    "np.linalg.norm(v)"
   ]
  },
  {
   "cell_type": "markdown",
   "id": "49f6c58a",
   "metadata": {},
   "source": [
    "<a name=\"copy\"></a>\n",
    "#### Copiar una matriz o un vector\n",
    "Si queremos crear una copia de una matriz o de un vector, lo hacemos añadiendo ``.copy()``:\n"
   ]
  },
  {
   "cell_type": "code",
   "execution_count": null,
   "id": "be302996",
   "metadata": {},
   "outputs": [],
   "source": [
    "C = A.copy()\n",
    "C"
   ]
  },
  {
   "cell_type": "markdown",
   "id": "50a60828",
   "metadata": {},
   "source": [
    "<a name=\"special\"></a>\n",
    "## Matrices \"especiales\"\n",
    "<a name=\"id\"></a>\n",
    "#### Matriz identidad\n",
    "Con la función ``np.eye(n)`` podemos definir la matriz identidad de tamaño $n\\times n$. Por ejemplo, con ``np.eye(4)`` obtenemos la matriz identidad de $4\\times4$:"
   ]
  },
  {
   "cell_type": "code",
   "execution_count": null,
   "id": "2c7eba45",
   "metadata": {},
   "outputs": [],
   "source": [
    "np.eye(4)"
   ]
  },
  {
   "cell_type": "markdown",
   "id": "26454f96",
   "metadata": {},
   "source": [
    "<a name=\"null\"></a>\n",
    "#### Matriz nula y vector nulo\n",
    "La función ``np.zeros((m, n))`` nos permite obtener la matriz nula de tamaño $m\\times n$. Por ejemplo, si queremos la matriz nula de tamaño $2\\times 3$:"
   ]
  },
  {
   "cell_type": "code",
   "execution_count": null,
   "id": "9a6eec99",
   "metadata": {},
   "outputs": [],
   "source": [
    "np.zeros((2,3))"
   ]
  },
  {
   "cell_type": "markdown",
   "id": "dea09a68",
   "metadata": {},
   "source": [
    "Si queremos el vector nulo de tamaño $3$:"
   ]
  },
  {
   "cell_type": "code",
   "execution_count": null,
   "id": "b18f4638",
   "metadata": {},
   "outputs": [],
   "source": [
    "np.zeros(3)"
   ]
  },
  {
   "cell_type": "markdown",
   "id": "f779266c",
   "metadata": {},
   "source": [
    "<a name=\"ones\"></a>\n",
    "#### Matriz y vector de 1's\n",
    "Con ``np.ones`` obtenemos una matriz o vector del tamaño indicado con todos 1's. Su uso es análogo al de ``np.zeros``"
   ]
  },
  {
   "cell_type": "code",
   "execution_count": null,
   "id": "37a6a4ba",
   "metadata": {},
   "outputs": [],
   "source": [
    "np.ones((2,3))"
   ]
  },
  {
   "cell_type": "code",
   "execution_count": null,
   "id": "fe880e8d",
   "metadata": {},
   "outputs": [],
   "source": [
    "np.ones(4)"
   ]
  },
  {
   "cell_type": "markdown",
   "id": "05e65727",
   "metadata": {},
   "source": [
    "<a name=\"rand\"></a>\n",
    "#### Matriz y vector aleatorio\n",
    "Podemos generar una matriz aleatoria con valores en $[0,1]$ de tamaño $m\\times n$ con ``np.random.rand((m,n))``. Por ejemplo:"
   ]
  },
  {
   "cell_type": "code",
   "execution_count": null,
   "id": "e1b9e64b",
   "metadata": {},
   "outputs": [],
   "source": [
    "np.random.rand(3,4)"
   ]
  },
  {
   "cell_type": "markdown",
   "id": "1ff32f65",
   "metadata": {},
   "source": [
    "También sirve para generar vectores aleatorios:"
   ]
  },
  {
   "cell_type": "code",
   "execution_count": null,
   "id": "6daf8061",
   "metadata": {},
   "outputs": [],
   "source": [
    "np.random.rand(3)"
   ]
  },
  {
   "cell_type": "markdown",
   "id": "d60b713b",
   "metadata": {},
   "source": [
    "<a name=\"arange\"></a>\n",
    "#### Vector de rango de números (útil para cuando grafiquemos)\n",
    "El comando ``arange`` permite generar un vector que contiene a todos los números en un determinado rango. La sintaxis es ``np.arange(inicio, fin, paso)`` donde ``fin`` no está incluido y ``paso`` es optativo (el valor por defecto es 1)."
   ]
  },
  {
   "cell_type": "code",
   "execution_count": null,
   "id": "f0a51b84",
   "metadata": {},
   "outputs": [],
   "source": [
    "np.arange(1, 5)"
   ]
  },
  {
   "cell_type": "code",
   "execution_count": null,
   "id": "27349932",
   "metadata": {},
   "outputs": [],
   "source": [
    "np.arange(0, 20, 2)"
   ]
  },
  {
   "cell_type": "code",
   "execution_count": null,
   "id": "d44583c2",
   "metadata": {},
   "outputs": [],
   "source": [
    "np.arange(-1, 4, 0.1)"
   ]
  },
  {
   "cell_type": "markdown",
   "id": "e548d4f9",
   "metadata": {},
   "source": [
    "<a name=\"ops\"></a>\n",
    "## Operaciones"
   ]
  },
  {
   "cell_type": "markdown",
   "id": "808b48c3",
   "metadata": {},
   "source": [
    "<a name=\"sum\"></a>\n",
    "#### Sumas y restas\n",
    "Si queremos sumar dos o más matrices o vectores, lo hacemos con ``+``. Si queremos restar, lo hacemos con ``-``. Naturalmente, las dimensiones de los sumandos deben ser iguales."
   ]
  },
  {
   "cell_type": "code",
   "execution_count": null,
   "id": "f2277432",
   "metadata": {},
   "outputs": [],
   "source": [
    "u = np.array([-3, 4, 5])\n",
    "s = np.array([0, 2, 3])\n",
    "u + v + s"
   ]
  },
  {
   "cell_type": "markdown",
   "id": "c11144c5",
   "metadata": {},
   "source": [
    "Sumar un escalar a una matriz o a un vector equivale a sumarle el escalar a todas sus coordenadas:"
   ]
  },
  {
   "cell_type": "code",
   "execution_count": null,
   "id": "f9b847c3",
   "metadata": {},
   "outputs": [],
   "source": [
    "print(A)\n",
    "A + 2"
   ]
  },
  {
   "cell_type": "markdown",
   "id": "9f2e8bde",
   "metadata": {},
   "source": [
    "<a name=\"prod\"></a>\n",
    "#### Producto y división por un escalar\n",
    "Si queremos multiplicar una matriz o un vector por un escalar, lo hacemos con ``*``. Si queremos dividir por un escalar, los hacemos con `/`:"
   ]
  },
  {
   "cell_type": "code",
   "execution_count": null,
   "id": "9586d245",
   "metadata": {},
   "outputs": [],
   "source": [
    "print(B)\n",
    "B*(-2)"
   ]
  },
  {
   "cell_type": "markdown",
   "id": "2f12e888",
   "metadata": {},
   "source": [
    "<a name=\"innerprod\"></a>\n",
    "#### Producto interno, producto matriz-matriz y matriz-vector\n",
    "\n",
    "El producto interno entre vectores, el producto matriz-matriz y matriz-vector se realiza con ``@`` o con el comando ``np.dot``. \n",
    "\n",
    "**NO usar ``*`` para multiplicar matrices y/o vectores.**"
   ]
  },
  {
   "cell_type": "code",
   "execution_count": null,
   "id": "a721b9d4",
   "metadata": {},
   "outputs": [],
   "source": [
    "# Para calcular A.v :\n",
    "A @ v\n",
    "\n",
    "# Es lo mismo que hacer:\n",
    "np.dot(A,v)"
   ]
  },
  {
   "cell_type": "markdown",
   "id": "d89b42bf",
   "metadata": {},
   "source": [
    "Hay que tener cuidado con las dimensiones!"
   ]
  },
  {
   "cell_type": "code",
   "execution_count": null,
   "id": "45f921f1",
   "metadata": {},
   "outputs": [],
   "source": [
    "# Como A es de 3x3 y B es de 2x3, no puedo calcular A.B :\n",
    "A @ B"
   ]
  },
  {
   "cell_type": "code",
   "execution_count": null,
   "id": "4db4c6ee",
   "metadata": {},
   "outputs": [],
   "source": [
    "#Pero sí puedo calcular B.A :\n",
    "B @ A"
   ]
  },
  {
   "cell_type": "code",
   "execution_count": null,
   "id": "93101597",
   "metadata": {},
   "outputs": [],
   "source": [
    "# También puedo calcular A por B transpuesta :\n",
    "A @ B.T"
   ]
  },
  {
   "cell_type": "markdown",
   "id": "8d10ed97",
   "metadata": {},
   "source": [
    "<a name=\"solve\"></a>\n",
    "## Sistemas de ecuaciones lineales\n",
    "\n",
    "Para resolver el sistema de ecuaciones lineales $Ax=b$ utilizamos ``np.linalg.solve(A,b)``. $A$ debe ser una matriz cuadrada."
   ]
  },
  {
   "cell_type": "code",
   "execution_count": null,
   "id": "a897bfca",
   "metadata": {},
   "outputs": [],
   "source": [
    "np.linalg.solve(A, v)"
   ]
  },
  {
   "cell_type": "markdown",
   "id": "44e64240",
   "metadata": {},
   "source": [
    "**Obs:** Esto es mejor que hacer ``np.linalg.inv(A) @ b``."
   ]
  },
  {
   "cell_type": "markdown",
   "id": "5a14cf65",
   "metadata": {},
   "source": [
    "<a name=\"row_echelon\"></a>\n",
    "### La función ``row_echelon`` para escalonar matrices"
   ]
  },
  {
   "cell_type": "markdown",
   "id": "10d09466",
   "metadata": {},
   "source": [
    "En el campus está disponible el archivo ``row_echelon.py`` con la función que aplica Gauss para escalonar una matriz:"
   ]
  },
  {
   "cell_type": "code",
   "execution_count": null,
   "id": "320dbad8",
   "metadata": {},
   "outputs": [],
   "source": [
    "def row_echelon(M):\n",
    "    \"\"\" Return Row Echelon Form of matrix A \"\"\"\n",
    "    A = np.copy(M)\n",
    "    if (issubclass(A.dtype.type, np.integer)):\n",
    "        A = A.astype(float)\n",
    "    #A = M.astype(float)\n",
    "    # if matrix A has no columns or rows,\n",
    "    # it is already in REF, so we return itself\n",
    "    r, c = A.shape\n",
    "    if r == 0 or c == 0:\n",
    "        return A\n",
    "\n",
    "    # we search for non-zero element in the first column\n",
    "    for i in range(len(A)):\n",
    "        if A[i,0] != 0:\n",
    "            break\n",
    "    else:\n",
    "        # if all elements in the first column is zero,\n",
    "        # we perform REF on matrix from second column\n",
    "        B = row_echelon(A[:,1:])\n",
    "        # and then add the first zero-column back\n",
    "        return np.hstack([A[:,:1], B])\n",
    "\n",
    "    # if non-zero element happens not in the first row,\n",
    "    # we switch rows\n",
    "    if i > 0:\n",
    "        ith_row = A[i].copy()\n",
    "        A[i] = A[0]\n",
    "        A[0] = ith_row\n",
    "\n",
    "    # we divide first row by first element in it\n",
    "    A[0] = A[0] / A[0,0]\n",
    "    # we subtract all subsequent rows with first row (it has 1 now as first element)\n",
    "    # multiplied by the corresponding element in the first column\n",
    "    A[1:] -= A[0] * A[1:,0:1]\n",
    "\n",
    "    # we perform REF on matrix from second row, from second column\n",
    "    B = row_echelon(A[1:,1:])\n",
    "\n",
    "    # we add first row and first (zero) column, and return\n",
    "    return np.vstack([A[:1], np.hstack([A[1:,:1], B]) ])"
   ]
  },
  {
   "cell_type": "markdown",
   "id": "0be9ce06",
   "metadata": {},
   "source": [
    "Apliquémoslo a la matriz $A$:"
   ]
  },
  {
   "cell_type": "code",
   "execution_count": null,
   "id": "495def1e",
   "metadata": {},
   "outputs": [],
   "source": [
    "row_echelon(A)"
   ]
  },
  {
   "cell_type": "markdown",
   "id": "d412f18a",
   "metadata": {},
   "source": [
    "***\n",
    "<a name=\"coords\"></a>\n",
    "## Accediendo a coordenadas de matrices y vectores\n",
    "\n",
    "**IMPORTANTE: los índices en Python empiezan en 0**\n",
    "\n",
    "Para obtener a la i-ésima coordenada de in vector, le agregamos ``[i]``:"
   ]
  },
  {
   "cell_type": "code",
   "execution_count": null,
   "id": "8640c0c7",
   "metadata": {},
   "outputs": [],
   "source": [
    "print(v)\n",
    "v[1]"
   ]
  },
  {
   "cell_type": "markdown",
   "id": "dba964e8",
   "metadata": {},
   "source": [
    "Si queremos obtener el lugar $i,j$ de la matriz $A$ (o sea, $a_{ij}$) lo hacemos agregando ``[i,j]``:"
   ]
  },
  {
   "cell_type": "code",
   "execution_count": null,
   "id": "04a59adb",
   "metadata": {},
   "outputs": [],
   "source": [
    "print(A)\n",
    "A[1,2]"
   ]
  },
  {
   "cell_type": "markdown",
   "id": "f1b20429",
   "metadata": {},
   "source": [
    "Si introducimos un valor que supera la cantidad de coordenadas de un vector o la cantidad de filas/columnas de una matriz, salta el siguiente error:"
   ]
  },
  {
   "cell_type": "code",
   "execution_count": null,
   "id": "e64ec460",
   "metadata": {},
   "outputs": [],
   "source": [
    "A[3,2]"
   ]
  },
  {
   "cell_type": "markdown",
   "id": "a052fb5f",
   "metadata": {},
   "source": [
    "Podemos obtener submatrices con la sintaxis ``inicio : fin`` donde se incluye el índice ``inicio`` y se excluye ``fin``. Por ejemplo, a continuación queremos obtener la submatriz de $A$ compuesta por los elementos de las primeras dos filas y  las primeras dos columnas:"
   ]
  },
  {
   "cell_type": "code",
   "execution_count": null,
   "id": "7cc13c28",
   "metadata": {},
   "outputs": [],
   "source": [
    "print(A)\n",
    "A[0:2, 0:2]"
   ]
  },
  {
   "cell_type": "markdown",
   "id": "55087c62",
   "metadata": {},
   "source": [
    "Si ``inicio`` es $0$, podemos omitirlo. Así, podemos reescribir el ejemplo anterior de la siguiente manera:"
   ]
  },
  {
   "cell_type": "code",
   "execution_count": null,
   "id": "78017bbb",
   "metadata": {},
   "outputs": [],
   "source": [
    "print(A)\n",
    "A[:2, :2]"
   ]
  },
  {
   "cell_type": "markdown",
   "id": "89a2ba31",
   "metadata": {},
   "source": [
    "Análogamente, si queremos que ``final`` incluya a la última fila o columna, podemos omitir lo que viene después de ``:``. Por ejemplo, si quiero la submatriz de las últimas dos filas y primeras dos columnas de $A$:"
   ]
  },
  {
   "cell_type": "code",
   "execution_count": null,
   "id": "75ed8310",
   "metadata": {},
   "outputs": [],
   "source": [
    "print(A)\n",
    "A[1:, :2]"
   ]
  },
  {
   "cell_type": "markdown",
   "id": "970fd61c",
   "metadata": {},
   "source": [
    "Si sólo escribimos ``:`` Python lo interpreta que queremos todas las filas o todas las columnas:"
   ]
  },
  {
   "cell_type": "code",
   "execution_count": null,
   "id": "958448e9",
   "metadata": {},
   "outputs": [],
   "source": [
    "# Quiero la fila 1 de A:\n",
    "print('Fila 1 de A: ')\n",
    "print(A[1, :])\n",
    "\n",
    "# Quiero la columna 2 de A:\n",
    "print('Columna 2 de A: ')\n",
    "print(A[:, 2])"
   ]
  },
  {
   "cell_type": "markdown",
   "id": "ae8919de",
   "metadata": {},
   "source": [
    "Todo esto funciona también para vectores:"
   ]
  },
  {
   "cell_type": "code",
   "execution_count": null,
   "id": "b0793e89",
   "metadata": {},
   "outputs": [],
   "source": [
    "print(v)\n",
    "v[1:]"
   ]
  },
  {
   "cell_type": "markdown",
   "id": "78e4001d",
   "metadata": {},
   "source": [
    "## Ejercicios\n",
    "\n",
    "Sean:\n",
    "$$\n",
    "A = \\begin{pmatrix} 0 & 2 & 2 \\\\ -1 & 0 & 1 \\\\ -1 & 1 & 4 \\end{pmatrix} \\quad \n",
    "B=\\begin{pmatrix} 0 & 0 & -1 \\\\ 2 & 0 & 1 \\end{pmatrix} \\quad\n",
    "C = \\begin{pmatrix} 0 & 2 \\\\ -1 & 3 \\\\ 1 & -1 \\end{pmatrix} \\quad\n",
    "v = (-1, 2, 0) \\quad \n",
    "u = (3, 1, 2) \\quad\n",
    "w = (0, 3, -1)\n",
    "$$\n",
    "\n",
    "1) Definir en ``numpy`` las matrices y los vectores:"
   ]
  },
  {
   "cell_type": "code",
   "execution_count": null,
   "id": "0aedad41",
   "metadata": {},
   "outputs": [],
   "source": [
    "A = # COMPLETAR #\n",
    "B = # COMPLETAR #\n",
    "C = # COMPLETAR #\n",
    "v = # COMPLETAR #\n",
    "u = # COMPLETAR #\n",
    "w = # COMPLETAR #"
   ]
  },
  {
   "cell_type": "markdown",
   "id": "e6bd30aa",
   "metadata": {},
   "source": [
    "2) Calcular:\n",
    "\n",
    "a) $A^TC$\n",
    "\n",
    "_Resultado_: $\\begin{pmatrix} 0 & -2 \\\\ 1 & 3 \\\\ 3 & 3 \\end{pmatrix}$"
   ]
  },
  {
   "cell_type": "code",
   "execution_count": null,
   "id": "9bcaae8b",
   "metadata": {},
   "outputs": [],
   "source": []
  },
  {
   "cell_type": "markdown",
   "id": "e9c85417",
   "metadata": {},
   "source": [
    "b) $2BA + C^T$\n",
    "\n",
    "_Resultado_: $\\begin{pmatrix} 2 & -3 & -7 \\\\ 0 & 13 & 15 \\end{pmatrix}$"
   ]
  },
  {
   "cell_type": "code",
   "execution_count": null,
   "id": "25b04671",
   "metadata": {},
   "outputs": [],
   "source": []
  },
  {
   "cell_type": "markdown",
   "id": "3a65d196",
   "metadata": {},
   "source": [
    "c) $(Av)u$\n",
    "\n",
    "_Resultado:_ $19$"
   ]
  },
  {
   "cell_type": "code",
   "execution_count": null,
   "id": "1ad78b57",
   "metadata": {},
   "outputs": [],
   "source": []
  },
  {
   "cell_type": "markdown",
   "id": "569032e8",
   "metadata": {},
   "source": [
    "d) $A(vu)$\n",
    "\n",
    "_Resultado:_ $\\begin{pmatrix} 0 & -2 & -2 \\\\ 1 & 0 & -1 \\\\ 1 & -1 & -4 \\end{pmatrix}$"
   ]
  },
  {
   "cell_type": "code",
   "execution_count": null,
   "id": "337a6918",
   "metadata": {},
   "outputs": [],
   "source": []
  },
  {
   "cell_type": "markdown",
   "id": "d17dbf01",
   "metadata": {},
   "source": [
    "e) El producto interno entre la primera columna de $C$ y $w$\n",
    "\n",
    "_Resultado_ : $-4$"
   ]
  },
  {
   "cell_type": "code",
   "execution_count": null,
   "id": "17fa82bf",
   "metadata": {},
   "outputs": [],
   "source": []
  },
  {
   "cell_type": "markdown",
   "id": "db137321",
   "metadata": {},
   "source": [
    "f) $2v + (CB)w$\n",
    "\n",
    "_Resultado_: $(-4, 0, 2)$"
   ]
  },
  {
   "cell_type": "code",
   "execution_count": null,
   "id": "e6b20344",
   "metadata": {},
   "outputs": [],
   "source": []
  },
  {
   "cell_type": "markdown",
   "id": "c8eb8219",
   "metadata": {},
   "source": [
    "g) La solución del sistema $Ax=u$\n",
    "\n",
    "_Resultado:_ $(-1.25,  1.75, -0.25)$"
   ]
  },
  {
   "cell_type": "code",
   "execution_count": null,
   "id": "00df4e44",
   "metadata": {},
   "outputs": [],
   "source": []
  },
  {
   "cell_type": "markdown",
   "id": "4d0cd66a",
   "metadata": {},
   "source": [
    "h) $A^{-1}C$\n",
    "\n",
    "_Resultado_: $\\begin{pmatrix} 2 & -5.5 \\\\ -1 & 3.5 \\\\ 1 & -2.5 \\end{pmatrix} $"
   ]
  },
  {
   "cell_type": "code",
   "execution_count": null,
   "id": "2baf56e3",
   "metadata": {},
   "outputs": [],
   "source": []
  },
  {
   "cell_type": "markdown",
   "id": "84dcdfe5",
   "metadata": {},
   "source": [
    "i) El producto entre $C$ y la matriz que resulta de escalonar $B$\n",
    "\n",
    "_Resultado_: $\\begin{pmatrix} 0 & 0 & 2 \\\\ -1 & 0 & 2.5 \\\\ 1 & 0 & -0.5 \\end{pmatrix}$"
   ]
  },
  {
   "cell_type": "code",
   "execution_count": null,
   "id": "28fd18b9",
   "metadata": {},
   "outputs": [],
   "source": []
  },
  {
   "cell_type": "markdown",
   "id": "25664ca7",
   "metadata": {},
   "source": [
    "j) El producto entre $C$ y la transpuesta de la submatriz de $A$ compuesta por los elementos de las primeras dos filas y últimas dos columnas.\n",
    "\n",
    "_Resultado_: $\\begin{pmatrix} 4 & 2 \\\\ 4 & 3 \\\\ 0 & -1 \\end{pmatrix}$"
   ]
  },
  {
   "cell_type": "code",
   "execution_count": null,
   "id": "f6f9fdee",
   "metadata": {},
   "outputs": [],
   "source": []
  },
  {
   "cell_type": "markdown",
   "id": "24068923",
   "metadata": {},
   "source": [
    "k) $2||v - u||$\n",
    "\n",
    "_Resultado:_ $9.16515138991168$\n"
   ]
  },
  {
   "cell_type": "code",
   "execution_count": null,
   "id": "dfa64447",
   "metadata": {},
   "outputs": [],
   "source": []
  }
 ],
 "metadata": {
  "kernelspec": {
   "display_name": "Python 3 (ipykernel)",
   "language": "python",
   "name": "python3"
  },
  "language_info": {
   "codemirror_mode": {
    "name": "ipython",
    "version": 3
   },
   "file_extension": ".py",
   "mimetype": "text/x-python",
   "name": "python",
   "nbconvert_exporter": "python",
   "pygments_lexer": "ipython3",
   "version": "3.7.8"
  }
 },
 "nbformat": 4,
 "nbformat_minor": 5
}
