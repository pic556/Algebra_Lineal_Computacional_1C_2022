{
 "cells": [
  {
   "cell_type": "markdown",
   "id": "a497da01",
   "metadata": {},
   "source": [
    "## Álgebra Lineal Computacional - 1C 2022\n",
    "\n",
    "# Librería Numpy\n",
    "\n",
    "### Contenidos\n",
    "* <a href=\"#generalidades\">Generalidades</a>\n",
    "    * <a href=\"#size\">Tamaño de una matriz</a>\n",
    "    * <a href=\"#transpose\">Transpuesta de una matriz</a>\n",
    "    * <a href=\"#diag\">Diagonal de una matriz</a>\n",
    "    * <a href=\"#det\">Determinante de una matriz</a>\n",
    "    * <a href=\"#norm\">Norma de una matriz o de un vector </a>\n",
    "    * <a href=\"#copy\">Copiar una matriz o un vector</a>\n",
    "* <a href=\"#special\">Matrices \"especiales\"</a>\n",
    "    * <a href=\"#id\">Matriz identidad</a>\n",
    "    * <a href=\"#null\">Matriz nula y vector nulo</a>\n",
    "    * <a href=\"#ones\">Matriz y vector de 1's</a>\n",
    "    * <a href=\"#rand\">Matriz y vector aleatorio</a>\n",
    "    * <a href=\"#arange\">Vector de rango de números (útil para cuando grafiquemos)</a>\n",
    "* <a href=\"#ops\">Operaciones</a>\n",
    "    * <a href=\"#sum\">Suma y resta</a>\n",
    "    * <a href=\"#prod\">Producto y división por un escalar</a>\n",
    "    * <a href=\"#innerprod\">Producto interno, producto matriz-matriz y matriz-vector</a>\n",
    "* <a href=\"#solve\">Sistemas de ecuaciones lineales</a>\n",
    "    * <a href=\"#row_echelon\">La función ``row_echelon`` para escalonar matrices</a>\n",
    "* <a href=\"#coords\">Accediendo a coordenadas de matrices y vectores</a>\n",
    "    \n",
    "***\n",
    "Como siempre, empezamos importando Numpy:"
   ]
  },
  {
   "cell_type": "code",
   "execution_count": 1,
   "id": "dc5071ad",
   "metadata": {},
   "outputs": [],
   "source": [
    "import numpy as np"
   ]
  },
  {
   "cell_type": "markdown",
   "id": "f8335136",
   "metadata": {},
   "source": [
    "Para ver algunos ejemplos, definimos las siguientes matrices y vectores:\n",
    "\n",
    "$$A = \\begin{pmatrix} 3 & 2 & 2 \\\\ -1 & 0 & 1 \\\\ -2 & 2 & 4 \\end{pmatrix} \\quad \n",
    "B=\\begin{pmatrix} 0 & 1 & -1 \\\\ 5 & -2 & 1 \\end{pmatrix} \\quad v = (-1, 2, 1)$$"
   ]
  },
  {
   "cell_type": "code",
   "execution_count": 2,
   "id": "0d870be8",
   "metadata": {},
   "outputs": [],
   "source": [
    "A = np.array([[3, 2, 2], [-1, 0, 1], [-2, 2, 4]])\n",
    "B = np.array([[0, 1, -1], [5, -2, 1]])\n",
    "v = np.array([-1, 2, 1])"
   ]
  },
  {
   "cell_type": "markdown",
   "id": "c027dded",
   "metadata": {},
   "source": [
    "<a name=\"generalidades\"></a>\n",
    "## Generalidades"
   ]
  },
  {
   "cell_type": "markdown",
   "id": "2f8a3d12",
   "metadata": {},
   "source": [
    "<a name=\"size\"></a>\n",
    "#### Tamaño de una matriz \n",
    "Lo obtenemos agregando ``.shape``. Devuelve una tupla donde el primer elemento corresponde a la cantidad de filas y el segundo a la cantidad de columnas:"
   ]
  },
  {
   "cell_type": "code",
   "execution_count": 3,
   "id": "b463d614",
   "metadata": {},
   "outputs": [
    {
     "data": {
      "text/plain": [
       "(2, 3)"
      ]
     },
     "execution_count": 3,
     "metadata": {},
     "output_type": "execute_result"
    }
   ],
   "source": [
    "B.shape"
   ]
  },
  {
   "cell_type": "code",
   "execution_count": 4,
   "id": "a479fe18",
   "metadata": {},
   "outputs": [
    {
     "data": {
      "text/plain": [
       "3"
      ]
     },
     "execution_count": 4,
     "metadata": {},
     "output_type": "execute_result"
    }
   ],
   "source": [
    "# Si solamente quiero conocer la cantidad de filas:\n",
    "B.shape[0]\n",
    "\n",
    "# Si solamente quiero conocer la cantidad de columnas:\n",
    "B.shape[1]"
   ]
  },
  {
   "cell_type": "markdown",
   "id": "c2f0194a",
   "metadata": {},
   "source": [
    "<a name=\"transpose\"></a>\n",
    "#### Transpuesta de una matriz\n",
    "Lo hacemos agregando ``.T`` a la matriz:"
   ]
  },
  {
   "cell_type": "code",
   "execution_count": 5,
   "id": "a6b7437a",
   "metadata": {},
   "outputs": [
    {
     "data": {
      "text/plain": [
       "array([[ 3, -1, -2],\n",
       "       [ 2,  0,  2],\n",
       "       [ 2,  1,  4]])"
      ]
     },
     "execution_count": 5,
     "metadata": {},
     "output_type": "execute_result"
    }
   ],
   "source": [
    "A.T"
   ]
  },
  {
   "cell_type": "markdown",
   "id": "765779af",
   "metadata": {},
   "source": [
    "_**Obs**_: esto NO modifica a la matriz $A$, sino que crea un nuevo ``array`` que es la transpuesta de $A$.\n",
    "\n",
    "Se puede _mezclar_ con otras operaciones. Por ejemplo, si queremos calcular $(BA)^T$"
   ]
  },
  {
   "cell_type": "code",
   "execution_count": null,
   "id": "4bd74201",
   "metadata": {},
   "outputs": [],
   "source": []
  },
  {
   "cell_type": "markdown",
   "id": "71cab3fc",
   "metadata": {},
   "source": [
    "<a name=\"diag\"></a>\n",
    "#### Diagonal de una matriz\n",
    "Si a ``np.diag`` le introducimos una matriz, nos devuelve su diagonal:"
   ]
  },
  {
   "cell_type": "code",
   "execution_count": 6,
   "id": "2305628a",
   "metadata": {},
   "outputs": [
    {
     "data": {
      "text/plain": [
       "array([3, 0, 4])"
      ]
     },
     "execution_count": 6,
     "metadata": {},
     "output_type": "execute_result"
    }
   ],
   "source": [
    "np.diag(A)"
   ]
  },
  {
   "cell_type": "markdown",
   "id": "2a2f5443",
   "metadata": {},
   "source": [
    "Si le introducimos un vector, nos devuelve una matriz cuya diagonal es el vector y tiene $0$'s en los demás lugares:"
   ]
  },
  {
   "cell_type": "code",
   "execution_count": 7,
   "id": "c5672f26",
   "metadata": {},
   "outputs": [
    {
     "data": {
      "text/plain": [
       "array([[-1,  0,  0],\n",
       "       [ 0,  2,  0],\n",
       "       [ 0,  0,  1]])"
      ]
     },
     "execution_count": 7,
     "metadata": {},
     "output_type": "execute_result"
    }
   ],
   "source": [
    "np.diag(v)"
   ]
  },
  {
   "cell_type": "markdown",
   "id": "223d54ce",
   "metadata": {},
   "source": [
    "<a name=\"det\"></a>\n",
    "#### Determinante de una matriz\n",
    "Lo calculamos con la función ``np.linalg.det``:"
   ]
  },
  {
   "cell_type": "code",
   "execution_count": 8,
   "id": "551607c9",
   "metadata": {},
   "outputs": [
    {
     "data": {
      "text/plain": [
       "-6.0"
      ]
     },
     "execution_count": 8,
     "metadata": {},
     "output_type": "execute_result"
    }
   ],
   "source": [
    "np.linalg.det(A)"
   ]
  },
  {
   "cell_type": "markdown",
   "id": "7bcff9e5",
   "metadata": {},
   "source": [
    "<a name=\"inv\"></a>\n",
    "#### Inversa de una matriz\n",
    "Si la matriz tiene inversa, la calculamos con ``np.linalg.inv``:"
   ]
  },
  {
   "cell_type": "code",
   "execution_count": 9,
   "id": "f4971e49",
   "metadata": {},
   "outputs": [
    {
     "data": {
      "text/plain": [
       "array([[ 0.33333333,  0.66666667, -0.33333333],\n",
       "       [-0.33333333, -2.66666667,  0.83333333],\n",
       "       [ 0.33333333,  1.66666667, -0.33333333]])"
      ]
     },
     "execution_count": 9,
     "metadata": {},
     "output_type": "execute_result"
    }
   ],
   "source": [
    "np.linalg.inv(A)"
   ]
  },
  {
   "cell_type": "markdown",
   "id": "6f180b4a",
   "metadata": {},
   "source": [
    "Si la matriz no es cuadrada o no tiene inversa, salta un error:"
   ]
  },
  {
   "cell_type": "code",
   "execution_count": 10,
   "id": "31286f5a",
   "metadata": {},
   "outputs": [
    {
     "ename": "LinAlgError",
     "evalue": "Last 2 dimensions of the array must be square",
     "output_type": "error",
     "traceback": [
      "\u001b[0;31m---------------------------------------------------------------------------\u001b[0m",
      "\u001b[0;31mLinAlgError\u001b[0m                               Traceback (most recent call last)",
      "\u001b[0;32m/tmp/ipykernel_1507415/2530471551.py\u001b[0m in \u001b[0;36m<module>\u001b[0;34m\u001b[0m\n\u001b[0;32m----> 1\u001b[0;31m \u001b[0mnp\u001b[0m\u001b[0;34m.\u001b[0m\u001b[0mlinalg\u001b[0m\u001b[0;34m.\u001b[0m\u001b[0minv\u001b[0m\u001b[0;34m(\u001b[0m\u001b[0mB\u001b[0m\u001b[0;34m)\u001b[0m  \u001b[0;31m# Esta matriz no es cuadrada\u001b[0m\u001b[0;34m\u001b[0m\u001b[0;34m\u001b[0m\u001b[0m\n\u001b[0m",
      "\u001b[0;32m~/.local/lib/python3.8/site-packages/numpy/core/overrides.py\u001b[0m in \u001b[0;36minv\u001b[0;34m(*args, **kwargs)\u001b[0m\n",
      "\u001b[0;32m~/.local/lib/python3.8/site-packages/numpy/linalg/linalg.py\u001b[0m in \u001b[0;36minv\u001b[0;34m(a)\u001b[0m\n\u001b[1;32m    538\u001b[0m     \u001b[0ma\u001b[0m\u001b[0;34m,\u001b[0m \u001b[0mwrap\u001b[0m \u001b[0;34m=\u001b[0m \u001b[0m_makearray\u001b[0m\u001b[0;34m(\u001b[0m\u001b[0ma\u001b[0m\u001b[0;34m)\u001b[0m\u001b[0;34m\u001b[0m\u001b[0;34m\u001b[0m\u001b[0m\n\u001b[1;32m    539\u001b[0m     \u001b[0m_assert_stacked_2d\u001b[0m\u001b[0;34m(\u001b[0m\u001b[0ma\u001b[0m\u001b[0;34m)\u001b[0m\u001b[0;34m\u001b[0m\u001b[0;34m\u001b[0m\u001b[0m\n\u001b[0;32m--> 540\u001b[0;31m     \u001b[0m_assert_stacked_square\u001b[0m\u001b[0;34m(\u001b[0m\u001b[0ma\u001b[0m\u001b[0;34m)\u001b[0m\u001b[0;34m\u001b[0m\u001b[0;34m\u001b[0m\u001b[0m\n\u001b[0m\u001b[1;32m    541\u001b[0m     \u001b[0mt\u001b[0m\u001b[0;34m,\u001b[0m \u001b[0mresult_t\u001b[0m \u001b[0;34m=\u001b[0m \u001b[0m_commonType\u001b[0m\u001b[0;34m(\u001b[0m\u001b[0ma\u001b[0m\u001b[0;34m)\u001b[0m\u001b[0;34m\u001b[0m\u001b[0;34m\u001b[0m\u001b[0m\n\u001b[1;32m    542\u001b[0m \u001b[0;34m\u001b[0m\u001b[0m\n",
      "\u001b[0;32m~/.local/lib/python3.8/site-packages/numpy/linalg/linalg.py\u001b[0m in \u001b[0;36m_assert_stacked_square\u001b[0;34m(*arrays)\u001b[0m\n\u001b[1;32m    201\u001b[0m         \u001b[0mm\u001b[0m\u001b[0;34m,\u001b[0m \u001b[0mn\u001b[0m \u001b[0;34m=\u001b[0m \u001b[0ma\u001b[0m\u001b[0;34m.\u001b[0m\u001b[0mshape\u001b[0m\u001b[0;34m[\u001b[0m\u001b[0;34m-\u001b[0m\u001b[0;36m2\u001b[0m\u001b[0;34m:\u001b[0m\u001b[0;34m]\u001b[0m\u001b[0;34m\u001b[0m\u001b[0;34m\u001b[0m\u001b[0m\n\u001b[1;32m    202\u001b[0m         \u001b[0;32mif\u001b[0m \u001b[0mm\u001b[0m \u001b[0;34m!=\u001b[0m \u001b[0mn\u001b[0m\u001b[0;34m:\u001b[0m\u001b[0;34m\u001b[0m\u001b[0;34m\u001b[0m\u001b[0m\n\u001b[0;32m--> 203\u001b[0;31m             \u001b[0;32mraise\u001b[0m \u001b[0mLinAlgError\u001b[0m\u001b[0;34m(\u001b[0m\u001b[0;34m'Last 2 dimensions of the array must be square'\u001b[0m\u001b[0;34m)\u001b[0m\u001b[0;34m\u001b[0m\u001b[0;34m\u001b[0m\u001b[0m\n\u001b[0m\u001b[1;32m    204\u001b[0m \u001b[0;34m\u001b[0m\u001b[0m\n\u001b[1;32m    205\u001b[0m \u001b[0;32mdef\u001b[0m \u001b[0m_assert_finite\u001b[0m\u001b[0;34m(\u001b[0m\u001b[0;34m*\u001b[0m\u001b[0marrays\u001b[0m\u001b[0;34m)\u001b[0m\u001b[0;34m:\u001b[0m\u001b[0;34m\u001b[0m\u001b[0;34m\u001b[0m\u001b[0m\n",
      "\u001b[0;31mLinAlgError\u001b[0m: Last 2 dimensions of the array must be square"
     ]
    }
   ],
   "source": [
    "np.linalg.inv(B)  # Esta matriz no es cuadrada"
   ]
  },
  {
   "cell_type": "code",
   "execution_count": 11,
   "id": "14b35ac6",
   "metadata": {},
   "outputs": [
    {
     "name": "stdout",
     "output_type": "stream",
     "text": [
      "[[ 0.+0.j  1.+0.j  1.+0.j]\n",
      " [ 0.+0.j -1.+0.j  0.+1.j]\n",
      " [ 0.+0.j -2.+0.j  3.+0.j]]\n"
     ]
    },
    {
     "ename": "LinAlgError",
     "evalue": "Singular matrix",
     "output_type": "error",
     "traceback": [
      "\u001b[0;31m---------------------------------------------------------------------------\u001b[0m",
      "\u001b[0;31mLinAlgError\u001b[0m                               Traceback (most recent call last)",
      "\u001b[0;32m/tmp/ipykernel_1507415/4247237198.py\u001b[0m in \u001b[0;36m<module>\u001b[0;34m\u001b[0m\n\u001b[1;32m      1\u001b[0m \u001b[0mC\u001b[0m \u001b[0;34m=\u001b[0m \u001b[0mnp\u001b[0m\u001b[0;34m.\u001b[0m\u001b[0marray\u001b[0m\u001b[0;34m(\u001b[0m\u001b[0;34m[\u001b[0m\u001b[0;34m[\u001b[0m\u001b[0;36m0\u001b[0m\u001b[0;34m,\u001b[0m \u001b[0;36m1\u001b[0m\u001b[0;34m,\u001b[0m \u001b[0;36m1\u001b[0m\u001b[0;34m]\u001b[0m\u001b[0;34m,\u001b[0m \u001b[0;34m[\u001b[0m\u001b[0;36m0\u001b[0m\u001b[0;34m,\u001b[0m \u001b[0;34m-\u001b[0m\u001b[0;36m1\u001b[0m\u001b[0;34m,\u001b[0m \u001b[0;36m1j\u001b[0m\u001b[0;34m]\u001b[0m\u001b[0;34m,\u001b[0m \u001b[0;34m[\u001b[0m\u001b[0;36m0\u001b[0m\u001b[0;34m,\u001b[0m \u001b[0;34m-\u001b[0m\u001b[0;36m2\u001b[0m\u001b[0;34m,\u001b[0m \u001b[0;36m3\u001b[0m\u001b[0;34m]\u001b[0m\u001b[0;34m]\u001b[0m\u001b[0;34m)\u001b[0m \u001b[0;31m# Esta matriz no es inversible\u001b[0m\u001b[0;34m\u001b[0m\u001b[0;34m\u001b[0m\u001b[0m\n\u001b[1;32m      2\u001b[0m \u001b[0mprint\u001b[0m\u001b[0;34m(\u001b[0m\u001b[0mC\u001b[0m\u001b[0;34m)\u001b[0m\u001b[0;34m\u001b[0m\u001b[0;34m\u001b[0m\u001b[0m\n\u001b[0;32m----> 3\u001b[0;31m \u001b[0mnp\u001b[0m\u001b[0;34m.\u001b[0m\u001b[0mlinalg\u001b[0m\u001b[0;34m.\u001b[0m\u001b[0minv\u001b[0m\u001b[0;34m(\u001b[0m\u001b[0mC\u001b[0m\u001b[0;34m)\u001b[0m\u001b[0;34m\u001b[0m\u001b[0;34m\u001b[0m\u001b[0m\n\u001b[0m",
      "\u001b[0;32m~/.local/lib/python3.8/site-packages/numpy/core/overrides.py\u001b[0m in \u001b[0;36minv\u001b[0;34m(*args, **kwargs)\u001b[0m\n",
      "\u001b[0;32m~/.local/lib/python3.8/site-packages/numpy/linalg/linalg.py\u001b[0m in \u001b[0;36minv\u001b[0;34m(a)\u001b[0m\n\u001b[1;32m    543\u001b[0m     \u001b[0msignature\u001b[0m \u001b[0;34m=\u001b[0m \u001b[0;34m'D->D'\u001b[0m \u001b[0;32mif\u001b[0m \u001b[0misComplexType\u001b[0m\u001b[0;34m(\u001b[0m\u001b[0mt\u001b[0m\u001b[0;34m)\u001b[0m \u001b[0;32melse\u001b[0m \u001b[0;34m'd->d'\u001b[0m\u001b[0;34m\u001b[0m\u001b[0;34m\u001b[0m\u001b[0m\n\u001b[1;32m    544\u001b[0m     \u001b[0mextobj\u001b[0m \u001b[0;34m=\u001b[0m \u001b[0mget_linalg_error_extobj\u001b[0m\u001b[0;34m(\u001b[0m\u001b[0m_raise_linalgerror_singular\u001b[0m\u001b[0;34m)\u001b[0m\u001b[0;34m\u001b[0m\u001b[0;34m\u001b[0m\u001b[0m\n\u001b[0;32m--> 545\u001b[0;31m     \u001b[0mainv\u001b[0m \u001b[0;34m=\u001b[0m \u001b[0m_umath_linalg\u001b[0m\u001b[0;34m.\u001b[0m\u001b[0minv\u001b[0m\u001b[0;34m(\u001b[0m\u001b[0ma\u001b[0m\u001b[0;34m,\u001b[0m \u001b[0msignature\u001b[0m\u001b[0;34m=\u001b[0m\u001b[0msignature\u001b[0m\u001b[0;34m,\u001b[0m \u001b[0mextobj\u001b[0m\u001b[0;34m=\u001b[0m\u001b[0mextobj\u001b[0m\u001b[0;34m)\u001b[0m\u001b[0;34m\u001b[0m\u001b[0;34m\u001b[0m\u001b[0m\n\u001b[0m\u001b[1;32m    546\u001b[0m     \u001b[0;32mreturn\u001b[0m \u001b[0mwrap\u001b[0m\u001b[0;34m(\u001b[0m\u001b[0mainv\u001b[0m\u001b[0;34m.\u001b[0m\u001b[0mastype\u001b[0m\u001b[0;34m(\u001b[0m\u001b[0mresult_t\u001b[0m\u001b[0;34m,\u001b[0m \u001b[0mcopy\u001b[0m\u001b[0;34m=\u001b[0m\u001b[0;32mFalse\u001b[0m\u001b[0;34m)\u001b[0m\u001b[0;34m)\u001b[0m\u001b[0;34m\u001b[0m\u001b[0;34m\u001b[0m\u001b[0m\n\u001b[1;32m    547\u001b[0m \u001b[0;34m\u001b[0m\u001b[0m\n",
      "\u001b[0;32m~/.local/lib/python3.8/site-packages/numpy/linalg/linalg.py\u001b[0m in \u001b[0;36m_raise_linalgerror_singular\u001b[0;34m(err, flag)\u001b[0m\n\u001b[1;32m     86\u001b[0m \u001b[0;34m\u001b[0m\u001b[0m\n\u001b[1;32m     87\u001b[0m \u001b[0;32mdef\u001b[0m \u001b[0m_raise_linalgerror_singular\u001b[0m\u001b[0;34m(\u001b[0m\u001b[0merr\u001b[0m\u001b[0;34m,\u001b[0m \u001b[0mflag\u001b[0m\u001b[0;34m)\u001b[0m\u001b[0;34m:\u001b[0m\u001b[0;34m\u001b[0m\u001b[0;34m\u001b[0m\u001b[0m\n\u001b[0;32m---> 88\u001b[0;31m     \u001b[0;32mraise\u001b[0m \u001b[0mLinAlgError\u001b[0m\u001b[0;34m(\u001b[0m\u001b[0;34m\"Singular matrix\"\u001b[0m\u001b[0;34m)\u001b[0m\u001b[0;34m\u001b[0m\u001b[0;34m\u001b[0m\u001b[0m\n\u001b[0m\u001b[1;32m     89\u001b[0m \u001b[0;34m\u001b[0m\u001b[0m\n\u001b[1;32m     90\u001b[0m \u001b[0;32mdef\u001b[0m \u001b[0m_raise_linalgerror_nonposdef\u001b[0m\u001b[0;34m(\u001b[0m\u001b[0merr\u001b[0m\u001b[0;34m,\u001b[0m \u001b[0mflag\u001b[0m\u001b[0;34m)\u001b[0m\u001b[0;34m:\u001b[0m\u001b[0;34m\u001b[0m\u001b[0;34m\u001b[0m\u001b[0m\n",
      "\u001b[0;31mLinAlgError\u001b[0m: Singular matrix"
     ]
    }
   ],
   "source": [
    "C = np.array([[0, 1, 1], [0, -1, 1j], [0, -2, 3]]) # Esta matriz no es inversible\n",
    "print(C)\n",
    "np.linalg.inv(C)"
   ]
  },
  {
   "cell_type": "markdown",
   "id": "3c13140e",
   "metadata": {},
   "source": [
    "<a name=\"norm\"></a>\n",
    "#### Norma de una matriz o de un vector \n",
    "Lo calculamos con la función ``np.linalg.norm``:"
   ]
  },
  {
   "cell_type": "code",
   "execution_count": 15,
   "id": "9d65f4eb",
   "metadata": {},
   "outputs": [
    {
     "data": {
      "text/plain": [
       "2.449489742783178"
      ]
     },
     "execution_count": 15,
     "metadata": {},
     "output_type": "execute_result"
    }
   ],
   "source": [
    "np.linalg.norm(v)"
   ]
  },
  {
   "cell_type": "markdown",
   "id": "49f6c58a",
   "metadata": {},
   "source": [
    "<a name=\"copy\"></a>\n",
    "#### Copiar una matriz o un vector\n",
    "Si queremos crear una copia de una matriz o de un vector, lo hacemos añadiendo ``.copy()``:\n"
   ]
  },
  {
   "cell_type": "code",
   "execution_count": 16,
   "id": "be302996",
   "metadata": {},
   "outputs": [
    {
     "data": {
      "text/plain": [
       "array([[ 3,  2,  2],\n",
       "       [-1,  0,  1],\n",
       "       [-2,  2,  4]])"
      ]
     },
     "execution_count": 16,
     "metadata": {},
     "output_type": "execute_result"
    }
   ],
   "source": [
    "C = A.copy()\n",
    "C"
   ]
  },
  {
   "cell_type": "markdown",
   "id": "50a60828",
   "metadata": {},
   "source": [
    "<a name=\"special\"></a>\n",
    "## Matrices \"especiales\"\n",
    "<a name=\"id\"></a>\n",
    "#### Matriz identidad\n",
    "Con la función ``np.eye(n)`` podemos definir la matriz identidad de tamaño $n\\times n$. Por ejemplo, con ``np.eye(4)`` obtenemos la matriz identidad de $4\\times4$:"
   ]
  },
  {
   "cell_type": "code",
   "execution_count": 18,
   "id": "2c7eba45",
   "metadata": {},
   "outputs": [
    {
     "data": {
      "text/plain": [
       "array([[1., 0., 0., 0.],\n",
       "       [0., 1., 0., 0.],\n",
       "       [0., 0., 1., 0.],\n",
       "       [0., 0., 0., 1.]])"
      ]
     },
     "execution_count": 18,
     "metadata": {},
     "output_type": "execute_result"
    }
   ],
   "source": [
    "np.eye(4)"
   ]
  },
  {
   "cell_type": "markdown",
   "id": "26454f96",
   "metadata": {},
   "source": [
    "<a name=\"null\"></a>\n",
    "#### Matriz nula y vector nulo\n",
    "La función ``np.zeros((m, n))`` nos permite obtener la matriz nula de tamaño $m\\times n$. Por ejemplo, si queremos la matriz nula de tamaño $2\\times 3$:"
   ]
  },
  {
   "cell_type": "code",
   "execution_count": 19,
   "id": "9a6eec99",
   "metadata": {},
   "outputs": [
    {
     "data": {
      "text/plain": [
       "array([[0., 0., 0.],\n",
       "       [0., 0., 0.]])"
      ]
     },
     "execution_count": 19,
     "metadata": {},
     "output_type": "execute_result"
    }
   ],
   "source": [
    "np.zeros((2,3))"
   ]
  },
  {
   "cell_type": "markdown",
   "id": "dea09a68",
   "metadata": {},
   "source": [
    "Si queremos el vector nulo de tamaño $3$:"
   ]
  },
  {
   "cell_type": "code",
   "execution_count": 20,
   "id": "b18f4638",
   "metadata": {},
   "outputs": [
    {
     "data": {
      "text/plain": [
       "array([0., 0., 0.])"
      ]
     },
     "execution_count": 20,
     "metadata": {},
     "output_type": "execute_result"
    }
   ],
   "source": [
    "np.zeros(3)"
   ]
  },
  {
   "cell_type": "markdown",
   "id": "f779266c",
   "metadata": {},
   "source": [
    "<a name=\"ones\"></a>\n",
    "#### Matriz y vector de 1's\n",
    "Con ``np.ones`` obtenemos una matriz o vector del tamaño indicado con todos 1's. Su uso es análogo al de ``np.zeros``"
   ]
  },
  {
   "cell_type": "code",
   "execution_count": 21,
   "id": "37a6a4ba",
   "metadata": {},
   "outputs": [
    {
     "data": {
      "text/plain": [
       "array([[1., 1., 1.],\n",
       "       [1., 1., 1.]])"
      ]
     },
     "execution_count": 21,
     "metadata": {},
     "output_type": "execute_result"
    }
   ],
   "source": [
    "np.ones((2,3))"
   ]
  },
  {
   "cell_type": "code",
   "execution_count": 22,
   "id": "fe880e8d",
   "metadata": {},
   "outputs": [
    {
     "data": {
      "text/plain": [
       "array([1., 1., 1., 1.])"
      ]
     },
     "execution_count": 22,
     "metadata": {},
     "output_type": "execute_result"
    }
   ],
   "source": [
    "np.ones(4)"
   ]
  },
  {
   "cell_type": "markdown",
   "id": "05e65727",
   "metadata": {},
   "source": [
    "<a name=\"rand\"></a>\n",
    "#### Matriz y vector aleatorio\n",
    "Podemos generar una matriz aleatoria con valores en $[0,1]$ de tamaño $m\\times n$ con ``np.random.rand((m,n))``. Por ejemplo:"
   ]
  },
  {
   "cell_type": "code",
   "execution_count": 23,
   "id": "e1b9e64b",
   "metadata": {},
   "outputs": [
    {
     "data": {
      "text/plain": [
       "array([[0.17972456, 0.72265734, 0.24739592, 0.84930413],\n",
       "       [0.33915087, 0.96492107, 0.31997808, 0.58987471],\n",
       "       [0.69214645, 0.06824036, 0.71052581, 0.90586175]])"
      ]
     },
     "execution_count": 23,
     "metadata": {},
     "output_type": "execute_result"
    }
   ],
   "source": [
    "np.random.rand(3,4)"
   ]
  },
  {
   "cell_type": "markdown",
   "id": "1ff32f65",
   "metadata": {},
   "source": [
    "También sirve para generar vectores aleatorios:"
   ]
  },
  {
   "cell_type": "code",
   "execution_count": 24,
   "id": "6daf8061",
   "metadata": {},
   "outputs": [
    {
     "data": {
      "text/plain": [
       "array([0.71065195, 0.24521573, 0.50218901])"
      ]
     },
     "execution_count": 24,
     "metadata": {},
     "output_type": "execute_result"
    }
   ],
   "source": [
    "np.random.rand(3)"
   ]
  },
  {
   "cell_type": "markdown",
   "id": "d60b713b",
   "metadata": {},
   "source": [
    "<a name=\"arange\"></a>\n",
    "#### Vector de rango de números (útil para cuando grafiquemos)\n",
    "El comando ``arange`` permite generar un vector que contiene a todos los números en un determinado rango. La sintaxis es ``np.arange(inicio, fin, paso)`` donde ``fin`` no está incluido y ``paso`` es optativo (el valor por defecto es 1)."
   ]
  },
  {
   "cell_type": "code",
   "execution_count": 27,
   "id": "f0a51b84",
   "metadata": {},
   "outputs": [
    {
     "data": {
      "text/plain": [
       "array([1, 2, 3, 4])"
      ]
     },
     "execution_count": 27,
     "metadata": {},
     "output_type": "execute_result"
    }
   ],
   "source": [
    "np.arange(1, 5)"
   ]
  },
  {
   "cell_type": "code",
   "execution_count": 28,
   "id": "27349932",
   "metadata": {},
   "outputs": [
    {
     "data": {
      "text/plain": [
       "array([ 0,  2,  4,  6,  8, 10, 12, 14, 16, 18])"
      ]
     },
     "execution_count": 28,
     "metadata": {},
     "output_type": "execute_result"
    }
   ],
   "source": [
    "np.arange(0, 20, 2)"
   ]
  },
  {
   "cell_type": "code",
   "execution_count": 29,
   "id": "d44583c2",
   "metadata": {},
   "outputs": [
    {
     "data": {
      "text/plain": [
       "array([-1.00000000e+00, -9.00000000e-01, -8.00000000e-01, -7.00000000e-01,\n",
       "       -6.00000000e-01, -5.00000000e-01, -4.00000000e-01, -3.00000000e-01,\n",
       "       -2.00000000e-01, -1.00000000e-01, -2.22044605e-16,  1.00000000e-01,\n",
       "        2.00000000e-01,  3.00000000e-01,  4.00000000e-01,  5.00000000e-01,\n",
       "        6.00000000e-01,  7.00000000e-01,  8.00000000e-01,  9.00000000e-01,\n",
       "        1.00000000e+00,  1.10000000e+00,  1.20000000e+00,  1.30000000e+00,\n",
       "        1.40000000e+00,  1.50000000e+00,  1.60000000e+00,  1.70000000e+00,\n",
       "        1.80000000e+00,  1.90000000e+00,  2.00000000e+00,  2.10000000e+00,\n",
       "        2.20000000e+00,  2.30000000e+00,  2.40000000e+00,  2.50000000e+00,\n",
       "        2.60000000e+00,  2.70000000e+00,  2.80000000e+00,  2.90000000e+00,\n",
       "        3.00000000e+00,  3.10000000e+00,  3.20000000e+00,  3.30000000e+00,\n",
       "        3.40000000e+00,  3.50000000e+00,  3.60000000e+00,  3.70000000e+00,\n",
       "        3.80000000e+00,  3.90000000e+00])"
      ]
     },
     "execution_count": 29,
     "metadata": {},
     "output_type": "execute_result"
    }
   ],
   "source": [
    "np.arange(-1, 4, 0.1)"
   ]
  },
  {
   "cell_type": "markdown",
   "id": "e548d4f9",
   "metadata": {},
   "source": [
    "<a name=\"ops\"></a>\n",
    "## Operaciones"
   ]
  },
  {
   "cell_type": "markdown",
   "id": "808b48c3",
   "metadata": {},
   "source": [
    "<a name=\"sum\"></a>\n",
    "#### Sumas y restas\n",
    "Si queremos sumar dos o más matrices o vectores, lo hacemos con ``+``. Si queremos restar, lo hacemos con ``-``. Naturalmente, las dimensiones de los sumandos deben ser iguales."
   ]
  },
  {
   "cell_type": "code",
   "execution_count": 30,
   "id": "f2277432",
   "metadata": {},
   "outputs": [
    {
     "data": {
      "text/plain": [
       "array([-4,  8,  9])"
      ]
     },
     "execution_count": 30,
     "metadata": {},
     "output_type": "execute_result"
    }
   ],
   "source": [
    "u = np.array([-3, 4, 5])\n",
    "s = np.array([0, 2, 3])\n",
    "u + v + s"
   ]
  },
  {
   "cell_type": "markdown",
   "id": "c11144c5",
   "metadata": {},
   "source": [
    "Sumar un escalar a una matriz o a un vector equivale a sumarle el escalar a todas sus coordenadas:"
   ]
  },
  {
   "cell_type": "code",
   "execution_count": 31,
   "id": "f9b847c3",
   "metadata": {},
   "outputs": [
    {
     "name": "stdout",
     "output_type": "stream",
     "text": [
      "[[ 3  2  2]\n",
      " [-1  0  1]\n",
      " [-2  2  4]]\n"
     ]
    },
    {
     "data": {
      "text/plain": [
       "array([[5, 4, 4],\n",
       "       [1, 2, 3],\n",
       "       [0, 4, 6]])"
      ]
     },
     "execution_count": 31,
     "metadata": {},
     "output_type": "execute_result"
    }
   ],
   "source": [
    "print(A)\n",
    "A + 2"
   ]
  },
  {
   "cell_type": "markdown",
   "id": "9f2e8bde",
   "metadata": {},
   "source": [
    "<a name=\"prod\"></a>\n",
    "#### Producto y división por un escalar\n",
    "Si queremos multiplicar una matriz o un vector por un escalar, lo hacemos con ``*``. Si queremos dividir por un escalar, los hacemos con `/`:"
   ]
  },
  {
   "cell_type": "code",
   "execution_count": 32,
   "id": "9586d245",
   "metadata": {},
   "outputs": [
    {
     "name": "stdout",
     "output_type": "stream",
     "text": [
      "[[ 0  1 -1]\n",
      " [ 5 -2  1]]\n"
     ]
    },
    {
     "data": {
      "text/plain": [
       "array([[  0,  -2,   2],\n",
       "       [-10,   4,  -2]])"
      ]
     },
     "execution_count": 32,
     "metadata": {},
     "output_type": "execute_result"
    }
   ],
   "source": [
    "print(B)\n",
    "B*(-2)"
   ]
  },
  {
   "cell_type": "markdown",
   "id": "2f12e888",
   "metadata": {},
   "source": [
    "<a name=\"innerprod\"></a>\n",
    "#### Producto interno, producto matriz-matriz y matriz-vector\n",
    "\n",
    "El producto interno entre vectores, el producto matriz-matriz y matriz-vector se realiza con ``@`` o con el comando ``np.dot``. \n",
    "\n",
    "**NO usar ``*`` para multiplicar matrices y/o vectores.**"
   ]
  },
  {
   "cell_type": "code",
   "execution_count": 33,
   "id": "a721b9d4",
   "metadata": {},
   "outputs": [
    {
     "data": {
      "text/plain": [
       "array([ 3,  2, 10])"
      ]
     },
     "execution_count": 33,
     "metadata": {},
     "output_type": "execute_result"
    }
   ],
   "source": [
    "# Para calcular A.v :\n",
    "A @ v\n",
    "\n",
    "# Es lo mismo que hacer:\n",
    "np.dot(A,v)"
   ]
  },
  {
   "cell_type": "markdown",
   "id": "d89b42bf",
   "metadata": {},
   "source": [
    "Hay que tener cuidado con las dimensiones!"
   ]
  },
  {
   "cell_type": "code",
   "execution_count": 34,
   "id": "45f921f1",
   "metadata": {},
   "outputs": [
    {
     "ename": "ValueError",
     "evalue": "matmul: Input operand 1 has a mismatch in its core dimension 0, with gufunc signature (n?,k),(k,m?)->(n?,m?) (size 2 is different from 3)",
     "output_type": "error",
     "traceback": [
      "\u001b[0;31m---------------------------------------------------------------------------\u001b[0m",
      "\u001b[0;31mValueError\u001b[0m                                Traceback (most recent call last)",
      "\u001b[0;32m/tmp/ipykernel_1507415/3461909650.py\u001b[0m in \u001b[0;36m<module>\u001b[0;34m\u001b[0m\n\u001b[1;32m      1\u001b[0m \u001b[0;31m# Como A es de 3x3 y B es de 2x3, no puedo calcular A.B :\u001b[0m\u001b[0;34m\u001b[0m\u001b[0;34m\u001b[0m\u001b[0;34m\u001b[0m\u001b[0m\n\u001b[0;32m----> 2\u001b[0;31m \u001b[0mA\u001b[0m \u001b[0;34m@\u001b[0m \u001b[0mB\u001b[0m\u001b[0;34m\u001b[0m\u001b[0;34m\u001b[0m\u001b[0m\n\u001b[0m",
      "\u001b[0;31mValueError\u001b[0m: matmul: Input operand 1 has a mismatch in its core dimension 0, with gufunc signature (n?,k),(k,m?)->(n?,m?) (size 2 is different from 3)"
     ]
    }
   ],
   "source": [
    "# Como A es de 3x3 y B es de 2x3, no puedo calcular A.B :\n",
    "A @ B"
   ]
  },
  {
   "cell_type": "code",
   "execution_count": 35,
   "id": "4db4c6ee",
   "metadata": {},
   "outputs": [
    {
     "data": {
      "text/plain": [
       "array([[ 1, -2, -3],\n",
       "       [15, 12, 12]])"
      ]
     },
     "execution_count": 35,
     "metadata": {},
     "output_type": "execute_result"
    }
   ],
   "source": [
    "#Pero sí puedo calcular B.A :\n",
    "B @ A"
   ]
  },
  {
   "cell_type": "code",
   "execution_count": 36,
   "id": "93101597",
   "metadata": {},
   "outputs": [
    {
     "data": {
      "text/plain": [
       "array([[  0,  13],\n",
       "       [ -1,  -4],\n",
       "       [ -2, -10]])"
      ]
     },
     "execution_count": 36,
     "metadata": {},
     "output_type": "execute_result"
    }
   ],
   "source": [
    "# También puedo calcular A por B transpuesta :\n",
    "A @ B.T"
   ]
  },
  {
   "cell_type": "markdown",
   "id": "8d10ed97",
   "metadata": {},
   "source": [
    "<a name=\"solve\"></a>\n",
    "## Sistemas de ecuaciones lineales\n",
    "\n",
    "Para resolver el sistema de ecuaciones lineales $Ax=b$ utilizamos ``np.linalg.solve(A,b)``. $A$ debe ser una matriz cuadrada."
   ]
  },
  {
   "cell_type": "code",
   "execution_count": 37,
   "id": "a897bfca",
   "metadata": {},
   "outputs": [
    {
     "data": {
      "text/plain": [
       "array([ 0.66666667, -4.16666667,  2.66666667])"
      ]
     },
     "execution_count": 37,
     "metadata": {},
     "output_type": "execute_result"
    }
   ],
   "source": [
    "np.linalg.solve(A, v)"
   ]
  },
  {
   "cell_type": "markdown",
   "id": "44e64240",
   "metadata": {},
   "source": [
    "**Obs:** Esto es mejor que hacer ``np.linalg.inv(A) @ b``."
   ]
  },
  {
   "cell_type": "markdown",
   "id": "5a14cf65",
   "metadata": {},
   "source": [
    "<a name=\"row_echelon\"></a>\n",
    "### La función ``row_echelon`` para escalonar matrices"
   ]
  },
  {
   "cell_type": "markdown",
   "id": "10d09466",
   "metadata": {},
   "source": [
    "En el campus está disponible el archivo ``row_echelon.py`` con la función que aplica Gauss para escalonar una matriz:"
   ]
  },
  {
   "cell_type": "code",
   "execution_count": 39,
   "id": "320dbad8",
   "metadata": {},
   "outputs": [],
   "source": [
    "def row_echelon(M):\n",
    "    \"\"\" Return Row Echelon Form of matrix A \"\"\"\n",
    "    A = np.copy(M)\n",
    "    if (issubclass(A.dtype.type, np.integer)):\n",
    "        A = A.astype(float)\n",
    "    #A = M.astype(float)\n",
    "    # if matrix A has no columns or rows,\n",
    "    # it is already in REF, so we return itself\n",
    "    r, c = A.shape\n",
    "    if r == 0 or c == 0:\n",
    "        return A\n",
    "\n",
    "    # we search for non-zero element in the first column\n",
    "    for i in range(len(A)):\n",
    "        if A[i,0] != 0:\n",
    "            break\n",
    "    else:\n",
    "        # if all elements in the first column is zero,\n",
    "        # we perform REF on matrix from second column\n",
    "        B = row_echelon(A[:,1:])\n",
    "        # and then add the first zero-column back\n",
    "        return np.hstack([A[:,:1], B])\n",
    "\n",
    "    # if non-zero element happens not in the first row,\n",
    "    # we switch rows\n",
    "    if i > 0:\n",
    "        ith_row = A[i].copy()\n",
    "        A[i] = A[0]\n",
    "        A[0] = ith_row\n",
    "\n",
    "    # we divide first row by first element in it\n",
    "    A[0] = A[0] / A[0,0]\n",
    "    # we subtract all subsequent rows with first row (it has 1 now as first element)\n",
    "    # multiplied by the corresponding element in the first column\n",
    "    A[1:] -= A[0] * A[1:,0:1]\n",
    "\n",
    "    # we perform REF on matrix from second row, from second column\n",
    "    B = row_echelon(A[1:,1:])\n",
    "\n",
    "    # we add first row and first (zero) column, and return\n",
    "    return np.vstack([A[:1], np.hstack([A[1:,:1], B]) ])"
   ]
  },
  {
   "cell_type": "markdown",
   "id": "0be9ce06",
   "metadata": {},
   "source": [
    "Apliquémoslo a la matriz $A$:"
   ]
  },
  {
   "cell_type": "code",
   "execution_count": 40,
   "id": "495def1e",
   "metadata": {},
   "outputs": [
    {
     "data": {
      "text/plain": [
       "array([[1.        , 0.66666667, 0.66666667],\n",
       "       [0.        , 1.        , 2.5       ],\n",
       "       [0.        , 0.        , 1.        ]])"
      ]
     },
     "execution_count": 40,
     "metadata": {},
     "output_type": "execute_result"
    }
   ],
   "source": [
    "row_echelon(A)"
   ]
  },
  {
   "cell_type": "markdown",
   "id": "d412f18a",
   "metadata": {},
   "source": [
    "***\n",
    "<a name=\"coords\"></a>\n",
    "## Accediendo a coordenadas de matrices y vectores\n",
    "\n",
    "**IMPORTANTE: los índices en Python empiezan en 0**\n",
    "\n",
    "Para obtener a la i-ésima coordenada de in vector, le agregamos ``[i]``:"
   ]
  },
  {
   "cell_type": "code",
   "execution_count": 41,
   "id": "8640c0c7",
   "metadata": {},
   "outputs": [
    {
     "name": "stdout",
     "output_type": "stream",
     "text": [
      "[-1  2  1]\n"
     ]
    },
    {
     "data": {
      "text/plain": [
       "2"
      ]
     },
     "execution_count": 41,
     "metadata": {},
     "output_type": "execute_result"
    }
   ],
   "source": [
    "print(v)\n",
    "v[1]"
   ]
  },
  {
   "cell_type": "markdown",
   "id": "dba964e8",
   "metadata": {},
   "source": [
    "Si queremos obtener el lugar $i,j$ de la matriz $A$ (o sea, $a_{ij}$) lo hacemos agregando ``[i,j]``:"
   ]
  },
  {
   "cell_type": "code",
   "execution_count": 42,
   "id": "04a59adb",
   "metadata": {},
   "outputs": [
    {
     "name": "stdout",
     "output_type": "stream",
     "text": [
      "[[ 3  2  2]\n",
      " [-1  0  1]\n",
      " [-2  2  4]]\n"
     ]
    },
    {
     "data": {
      "text/plain": [
       "1"
      ]
     },
     "execution_count": 42,
     "metadata": {},
     "output_type": "execute_result"
    }
   ],
   "source": [
    "print(A)\n",
    "A[1,2]"
   ]
  },
  {
   "cell_type": "markdown",
   "id": "f1b20429",
   "metadata": {},
   "source": [
    "Si introducimos un valor que supera la cantidad de coordenadas de un vector o la cantidad de filas/columnas de una matriz, salta el siguiente error:"
   ]
  },
  {
   "cell_type": "code",
   "execution_count": 43,
   "id": "e64ec460",
   "metadata": {},
   "outputs": [
    {
     "ename": "IndexError",
     "evalue": "index 3 is out of bounds for axis 0 with size 3",
     "output_type": "error",
     "traceback": [
      "\u001b[0;31m---------------------------------------------------------------------------\u001b[0m",
      "\u001b[0;31mIndexError\u001b[0m                                Traceback (most recent call last)",
      "\u001b[0;32m/tmp/ipykernel_1507415/804984605.py\u001b[0m in \u001b[0;36m<module>\u001b[0;34m\u001b[0m\n\u001b[0;32m----> 1\u001b[0;31m \u001b[0mA\u001b[0m\u001b[0;34m[\u001b[0m\u001b[0;36m3\u001b[0m\u001b[0;34m,\u001b[0m\u001b[0;36m2\u001b[0m\u001b[0;34m]\u001b[0m\u001b[0;34m\u001b[0m\u001b[0;34m\u001b[0m\u001b[0m\n\u001b[0m",
      "\u001b[0;31mIndexError\u001b[0m: index 3 is out of bounds for axis 0 with size 3"
     ]
    }
   ],
   "source": [
    "A[3,2]"
   ]
  },
  {
   "cell_type": "markdown",
   "id": "a052fb5f",
   "metadata": {},
   "source": [
    "Podemos obtener submatrices con la sintaxis ``inicio : fin`` donde se incluye el índice ``inicio`` y se excluye ``fin``. Por ejemplo, a continuación queremos obtener la submatriz de $A$ compuesta por los elementos de las primeras dos filas y  las primeras dos columnas:"
   ]
  },
  {
   "cell_type": "code",
   "execution_count": 44,
   "id": "7cc13c28",
   "metadata": {},
   "outputs": [
    {
     "name": "stdout",
     "output_type": "stream",
     "text": [
      "[[ 3  2  2]\n",
      " [-1  0  1]\n",
      " [-2  2  4]]\n"
     ]
    },
    {
     "data": {
      "text/plain": [
       "array([[ 3,  2],\n",
       "       [-1,  0]])"
      ]
     },
     "execution_count": 44,
     "metadata": {},
     "output_type": "execute_result"
    }
   ],
   "source": [
    "print(A)\n",
    "A[0:2, 0:2]"
   ]
  },
  {
   "cell_type": "markdown",
   "id": "55087c62",
   "metadata": {},
   "source": [
    "Si ``inicio`` es $0$, podemos omitirlo. Así, podemos reescribir el ejemplo anterior de la siguiente manera:"
   ]
  },
  {
   "cell_type": "code",
   "execution_count": 45,
   "id": "78017bbb",
   "metadata": {},
   "outputs": [
    {
     "name": "stdout",
     "output_type": "stream",
     "text": [
      "[[ 3  2  2]\n",
      " [-1  0  1]\n",
      " [-2  2  4]]\n"
     ]
    },
    {
     "data": {
      "text/plain": [
       "array([[ 3,  2],\n",
       "       [-1,  0]])"
      ]
     },
     "execution_count": 45,
     "metadata": {},
     "output_type": "execute_result"
    }
   ],
   "source": [
    "print(A)\n",
    "A[:2, :2]"
   ]
  },
  {
   "cell_type": "markdown",
   "id": "89a2ba31",
   "metadata": {},
   "source": [
    "Análogamente, si queremos que ``final`` incluya a la última fila o columna, podemos omitir lo que viene después de ``:``. Por ejemplo, si quiero la submatriz de las últimas dos filas y primeras dos columnas de $A$:"
   ]
  },
  {
   "cell_type": "code",
   "execution_count": 46,
   "id": "75ed8310",
   "metadata": {},
   "outputs": [
    {
     "name": "stdout",
     "output_type": "stream",
     "text": [
      "[[ 3  2  2]\n",
      " [-1  0  1]\n",
      " [-2  2  4]]\n"
     ]
    },
    {
     "data": {
      "text/plain": [
       "array([[-1,  0],\n",
       "       [-2,  2]])"
      ]
     },
     "execution_count": 46,
     "metadata": {},
     "output_type": "execute_result"
    }
   ],
   "source": [
    "print(A)\n",
    "A[1:, :2]"
   ]
  },
  {
   "cell_type": "markdown",
   "id": "970fd61c",
   "metadata": {},
   "source": [
    "Si sólo escribimos ``:`` Python lo interpreta que queremos todas las filas o todas las columnas:"
   ]
  },
  {
   "cell_type": "code",
   "execution_count": 47,
   "id": "958448e9",
   "metadata": {},
   "outputs": [
    {
     "name": "stdout",
     "output_type": "stream",
     "text": [
      "Fila 1 de A: \n",
      "[-1  0  1]\n",
      "Columna 2 de A: \n",
      "[2 1 4]\n"
     ]
    }
   ],
   "source": [
    "# Quiero la fila 1 de A:\n",
    "print('Fila 1 de A: ')\n",
    "print(A[1, :])\n",
    "\n",
    "# Quiero la columna 2 de A:\n",
    "print('Columna 2 de A: ')\n",
    "print(A[:, 2])"
   ]
  },
  {
   "cell_type": "markdown",
   "id": "ae8919de",
   "metadata": {},
   "source": [
    "Todo esto funciona también para vectores:"
   ]
  },
  {
   "cell_type": "code",
   "execution_count": 48,
   "id": "b0793e89",
   "metadata": {},
   "outputs": [
    {
     "name": "stdout",
     "output_type": "stream",
     "text": [
      "[-1  2  1]\n"
     ]
    },
    {
     "data": {
      "text/plain": [
       "array([2, 1])"
      ]
     },
     "execution_count": 48,
     "metadata": {},
     "output_type": "execute_result"
    }
   ],
   "source": [
    "print(v)\n",
    "v[1:]"
   ]
  },
  {
   "cell_type": "markdown",
   "id": "78e4001d",
   "metadata": {},
   "source": [
    "## Ejercicios\n",
    "\n",
    "Sean:\n",
    "$$\n",
    "A = \\begin{pmatrix} 0 & 2 & 2 \\\\ -1 & 0 & 1 \\\\ -1 & 1 & 4 \\end{pmatrix} \\quad \n",
    "B=\\begin{pmatrix} 0 & 0 & -1 \\\\ 2 & 0 & 1 \\end{pmatrix} \\quad\n",
    "C = \\begin{pmatrix} 0 & 2 \\\\ -1 & 3 \\\\ 1 & -1 \\end{pmatrix} \\quad\n",
    "v = (-1, 2, 0) \\quad \n",
    "u = (3, 1, 2) \\quad\n",
    "w = (0, 3, -1)\n",
    "$$\n",
    "\n",
    "1) Definir en ``numpy`` las matrices y los vectores:"
   ]
  },
  {
   "cell_type": "code",
   "execution_count": 61,
   "id": "0aedad41",
   "metadata": {},
   "outputs": [],
   "source": [
    "A = np.array([[0, 2, 2], [-1, 0, 1], [-1, 1, 4]])\n",
    "B = np.array([[0, 0, -1], [2, 0, 1]])\n",
    "C = np.array([[0, 2], [-1, 3], [1, -1]])\n",
    "v = np.array([-1, 2, 0])\n",
    "u = np.array([3, 1,2])\n",
    "w = np.array([0, 3, -1])"
   ]
  },
  {
   "cell_type": "markdown",
   "id": "e6bd30aa",
   "metadata": {},
   "source": [
    "2) Calcular:\n",
    "\n",
    "a) $A^TC$\n",
    "\n",
    "_Resultado_: $\\begin{pmatrix} 0 & -2 \\\\ 1 & 3 \\\\ 3 & 3 \\end{pmatrix}$"
   ]
  },
  {
   "cell_type": "code",
   "execution_count": 62,
   "id": "9bcaae8b",
   "metadata": {},
   "outputs": [
    {
     "data": {
      "text/plain": [
       "array([[ 0, -2],\n",
       "       [ 1,  3],\n",
       "       [ 3,  3]])"
      ]
     },
     "execution_count": 62,
     "metadata": {},
     "output_type": "execute_result"
    }
   ],
   "source": [
    "A.T @ C #Transpuesta de una matriz"
   ]
  },
  {
   "cell_type": "markdown",
   "id": "e9c85417",
   "metadata": {},
   "source": [
    "b) $2BA + C^T$\n",
    "\n",
    "_Resultado_: $\\begin{pmatrix} 2 & -3 & -7 \\\\ 0 & 13 & 15 \\end{pmatrix}$"
   ]
  },
  {
   "cell_type": "code",
   "execution_count": 63,
   "id": "25b04671",
   "metadata": {},
   "outputs": [
    {
     "data": {
      "text/plain": [
       "array([[ 2, -3, -7],\n",
       "       [ 0, 13, 15]])"
      ]
     },
     "execution_count": 63,
     "metadata": {},
     "output_type": "execute_result"
    }
   ],
   "source": [
    "2*B@A + C.T"
   ]
  },
  {
   "cell_type": "markdown",
   "id": "3a65d196",
   "metadata": {},
   "source": [
    "c) $(Av)u$\n",
    "\n",
    "_Resultado:_ $19$"
   ]
  },
  {
   "cell_type": "code",
   "execution_count": 64,
   "id": "1ad78b57",
   "metadata": {},
   "outputs": [
    {
     "data": {
      "text/plain": [
       "19"
      ]
     },
     "execution_count": 64,
     "metadata": {},
     "output_type": "execute_result"
    }
   ],
   "source": [
    "(A@v)@u #no es el * ,es el prodcuto interno entre vectores"
   ]
  },
  {
   "cell_type": "markdown",
   "id": "569032e8",
   "metadata": {},
   "source": [
    "d) $A(vu)$\n",
    "\n",
    "_Resultado:_ $\\begin{pmatrix} 0 & -2 & -2 \\\\ 1 & 0 & -1 \\\\ 1 & -1 & -4 \\end{pmatrix}$"
   ]
  },
  {
   "cell_type": "code",
   "execution_count": 73,
   "id": "337a6918",
   "metadata": {},
   "outputs": [
    {
     "data": {
      "text/plain": [
       "array([[ 0, -2, -2],\n",
       "       [ 1,  0, -1],\n",
       "       [ 1, -1, -4]])"
      ]
     },
     "execution_count": 73,
     "metadata": {},
     "output_type": "execute_result"
    }
   ],
   "source": [
    "A*(v@u) #entender las dimensiones y ver cuando es vector producto interno o una multiplicacion"
   ]
  },
  {
   "cell_type": "markdown",
   "id": "d17dbf01",
   "metadata": {},
   "source": [
    "e) El producto interno entre la primera columna de $C$ y $w$\n",
    "\n",
    "_Resultado_ : $-4$"
   ]
  },
  {
   "cell_type": "code",
   "execution_count": 67,
   "id": "17fa82bf",
   "metadata": {},
   "outputs": [
    {
     "data": {
      "text/plain": [
       "-4"
      ]
     },
     "execution_count": 67,
     "metadata": {},
     "output_type": "execute_result"
    }
   ],
   "source": [
    "C[:, 0]@ w #columna 0 es la primera columna"
   ]
  },
  {
   "cell_type": "markdown",
   "id": "db137321",
   "metadata": {},
   "source": [
    "f) $2v + (CB)w$\n",
    "\n",
    "_Resultado_: $(-4, 0, 2)$"
   ]
  },
  {
   "cell_type": "code",
   "execution_count": 68,
   "id": "e6b20344",
   "metadata": {},
   "outputs": [
    {
     "data": {
      "text/plain": [
       "array([-4,  0,  2])"
      ]
     },
     "execution_count": 68,
     "metadata": {},
     "output_type": "execute_result"
    }
   ],
   "source": [
    "2*v +(C@B)@w"
   ]
  },
  {
   "cell_type": "markdown",
   "id": "c8eb8219",
   "metadata": {},
   "source": [
    "g) La solución del sistema $Ax=u$\n",
    "\n",
    "_Resultado:_ $(-1.25,  1.75, -0.25)$"
   ]
  },
  {
   "cell_type": "code",
   "execution_count": 74,
   "id": "00df4e44",
   "metadata": {},
   "outputs": [
    {
     "data": {
      "text/plain": [
       "array([-1.25,  1.75, -0.25])"
      ]
     },
     "execution_count": 74,
     "metadata": {},
     "output_type": "execute_result"
    }
   ],
   "source": [
    "np.linalg.solve(A, u)#el x seria de incognita"
   ]
  },
  {
   "cell_type": "markdown",
   "id": "4d0cd66a",
   "metadata": {},
   "source": [
    "h) $A^{-1}C$\n",
    "\n",
    "_Resultado_: $\\begin{pmatrix} 2 & -5.5 \\\\ -1 & 3.5 \\\\ 1 & -2.5 \\end{pmatrix} $"
   ]
  },
  {
   "cell_type": "code",
   "execution_count": 75,
   "id": "2baf56e3",
   "metadata": {},
   "outputs": [
    {
     "data": {
      "text/plain": [
       "array([[ 2. , -5.5],\n",
       "       [-1. ,  3.5],\n",
       "       [ 1. , -2.5]])"
      ]
     },
     "execution_count": 75,
     "metadata": {},
     "output_type": "execute_result"
    }
   ],
   "source": [
    "np.linalg.inv(A) @ C"
   ]
  },
  {
   "cell_type": "markdown",
   "id": "84dcdfe5",
   "metadata": {},
   "source": [
    "i) El producto entre $C$ y la matriz que resulta de escalonar $B$\n",
    "\n",
    "_Resultado_: $\\begin{pmatrix} 0 & 0 & 2 \\\\ -1 & 0 & 2.5 \\\\ 1 & 0 & -0.5 \\end{pmatrix}$"
   ]
  },
  {
   "cell_type": "code",
   "execution_count": 76,
   "id": "28fd18b9",
   "metadata": {},
   "outputs": [
    {
     "data": {
      "text/plain": [
       "array([[ 0. ,  0. ,  2. ],\n",
       "       [-1. ,  0. ,  2.5],\n",
       "       [ 1. ,  0. , -0.5]])"
      ]
     },
     "execution_count": 76,
     "metadata": {},
     "output_type": "execute_result"
    }
   ],
   "source": [
    "C@row_echelon(B)"
   ]
  },
  {
   "cell_type": "markdown",
   "id": "25664ca7",
   "metadata": {},
   "source": [
    "j) El producto entre $C$ y la transpuesta de la submatriz de $A$ compuesta por los elementos de las primeras dos filas y últimas dos columnas.\n",
    "\n",
    "_Resultado_: $\\begin{pmatrix} 4 & 2 \\\\ 4 & 3 \\\\ 0 & -1 \\end{pmatrix}$"
   ]
  },
  {
   "cell_type": "code",
   "execution_count": 86,
   "id": "f6f9fdee",
   "metadata": {
    "scrolled": true
   },
   "outputs": [
    {
     "data": {
      "text/plain": [
       "array([[ 4,  2],\n",
       "       [ 4,  3],\n",
       "       [ 0, -1]])"
      ]
     },
     "execution_count": 86,
     "metadata": {},
     "output_type": "execute_result"
    }
   ],
   "source": [
    "M=A[0:2,1:3] #fila/columna 0 , 1 agarra con 0:2 y con 1:3 agarra 1,2 \n",
    "X=M.T\n",
    "C @ X"
   ]
  },
  {
   "cell_type": "markdown",
   "id": "24068923",
   "metadata": {},
   "source": [
    "k) $2||v - u||$\n",
    "\n",
    "_Resultado:_ $9.16515138991168$\n"
   ]
  },
  {
   "cell_type": "code",
   "execution_count": 87,
   "id": "dfa64447",
   "metadata": {},
   "outputs": [
    {
     "data": {
      "text/plain": [
       "9.16515138991168"
      ]
     },
     "execution_count": 87,
     "metadata": {},
     "output_type": "execute_result"
    }
   ],
   "source": [
    "2*np.linalg.norm(v-u) #es adecuado para usar esta fórmula calcule la distancia\n"
   ]
  },
  {
   "cell_type": "code",
   "execution_count": null,
   "id": "9a794e44",
   "metadata": {},
   "outputs": [],
   "source": []
  }
 ],
 "metadata": {
  "kernelspec": {
   "display_name": "Python 3 (ipykernel)",
   "language": "python",
   "name": "python3"
  },
  "language_info": {
   "codemirror_mode": {
    "name": "ipython",
    "version": 3
   },
   "file_extension": ".py",
   "mimetype": "text/x-python",
   "name": "python",
   "nbconvert_exporter": "python",
   "pygments_lexer": "ipython3",
   "version": "3.9.10"
  }
 },
 "nbformat": 4,
 "nbformat_minor": 5
}
