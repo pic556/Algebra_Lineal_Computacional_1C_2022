{
 "cells": [
  {
   "cell_type": "markdown",
   "id": "fifty-philippines",
   "metadata": {},
   "source": [
    "## Álgebra Lineal Computacional - 1C 2022\n",
    "\n",
    "### Transformaciones lineales\n",
    "\n",
    "**Aclaración:** en estos ejercicios consideramos que los espacios vectoriales son $\\mathbb{R}^n$ o $\\mathbb{C}^n$\n",
    "\n",
    "#### Ejercicio 1\n",
    "Programar en Python una función que devuelva las coordenadas de un vector $v$ en una base $B$. La función debe tomar como input a ``B`` (una lista de vectores) y ``v`` un vector. Recordar que las coordenadas de $v$ en $B=\\{v_1,v_2,\\dots, v_n\\}$ se pueden obtener resolviendo el sistema:\n",
    "\n",
    "$$Ax=v$$\n",
    "\n",
    "donde:\n",
    "$$A = \\begin{pmatrix} v_1 | v_2 | \\dots | v_n \\end{pmatrix}$$\n",
    "\n",
    "Podés utilizar la siguiente plantilla:"
   ]
  },
  {
   "cell_type": "code",
   "execution_count": 13,
   "id": "plastic-fireplace",
   "metadata": {},
   "outputs": [],
   "source": [
    "import numpy as np"
   ]
  },
  {
   "cell_type": "code",
   "execution_count": 14,
   "id": "systematic-provision",
   "metadata": {},
   "outputs": [],
   "source": [
    "def obtener_coordenadas(B, v):\n",
    "    m = len(v)   # Cantidad de filas de A\n",
    "    n = len(B)   # Cantidad de columnas de A\n",
    "    \n",
    "    A = np.zeros((m,n)) # COMPLETAR: inicializar una matriz nula de tamaño m x n #\n",
    "    for i in range(len(B)):\n",
    "        A[:, i] = B[i]    # a la i-ésima columna de A le asignamos el valor del i-ésimo vector de la lista B\n",
    "    \n",
    "    return np.linalg.solve(A,v) # COMPLETAR: solución de Ax=v #"
   ]
  },
  {
   "cell_type": "markdown",
   "id": "solar-compact",
   "metadata": {},
   "source": [
    "Para probar la función, podés buscar las coordenadas de $(2,2)$ en $B=\\{(-1, 1), (3,-1)\\}$, ejecutando la siguiente celda.\n",
    "Debería dar que las coordenadas son $(4,2)$"
   ]
  },
  {
   "cell_type": "code",
   "execution_count": 15,
   "id": "harmful-beauty",
   "metadata": {},
   "outputs": [
    {
     "data": {
      "text/plain": [
       "array([4., 2.])"
      ]
     },
     "execution_count": 15,
     "metadata": {},
     "output_type": "execute_result"
    }
   ],
   "source": [
    "v = np.array([2, 2])\n",
    "B = [np.array([-1, 1]), np.array([3, -1])]\n",
    "obtener_coordenadas(B, v)"
   ]
  },
  {
   "cell_type": "markdown",
   "id": "functional-highland",
   "metadata": {},
   "source": [
    "#### Ejercicio 2\n",
    "\n",
    "Programar en Python una función que decida si un conjunto de vectores son linealmente dependientes. La función debe tomar como input una lista de vectores ``L``. Sugerencia: usar ``row_echelon``. Podés utilizar la siguiente plantilla:"
   ]
  },
  {
   "cell_type": "code",
   "execution_count": 16,
   "id": "recognized-bidding",
   "metadata": {},
   "outputs": [],
   "source": [
    "def son_li(L):\n",
    "    \n",
    "    m = len(L) # COMPLETAR: La cantidad de filas viene dada por la longitud de L\n",
    "    n = len(L[0]) # COMPLETAR: La cantidad de columnas viene dada por la longitud del primer vector de la lista L\n",
    "    \n",
    "    A = np.zeros((m,n)) # COMPLETAR: inicializar una matriz nula de tamaño m x n\n",
    "    for i in range(len(L)):\n",
    "        A[i, :] = L[i]    # COMPLETAR: a la i-ésima fila de A le asignamos el valor del i-ésimo vector de la lista L\n",
    "    E = row_echelon(A) # COMPLETAR: resultado de aplicar row_echelon a A\n",
    "    ultima_fila = E[len(E)-1] # COMPLETAR: última fila de E\n",
    "    return not np.all(np.isclose(ultima_fila, np.zeros(n)))    # Chequeamos si todos los elementos de la última fila de E son nulos"
   ]
  },
  {
   "cell_type": "markdown",
   "id": "early-extreme",
   "metadata": {},
   "source": [
    "**Aclaración:** si ``v`` y ``w`` son arrays de numpy, ``np.all(np.isclose(v, w))`` devuelve ``True`` si son iguales y ``False`` en caso contrario.\n",
    "\n",
    "**Observación:** esta función también admite como input una matriz y devuelve si sus filas son l.i."
   ]
  },
  {
   "cell_type": "markdown",
   "id": "offensive-reflection",
   "metadata": {},
   "source": [
    "#### Ejercicio 3\n",
    "\n",
    "Programar en Python una función que devuelva la matriz asociada a una transformación lineal $f:V\\rightarrow W$ en la base canónica. Podés utilizar la siguiente plantilla:"
   ]
  },
  {
   "cell_type": "code",
   "execution_count": 17,
   "id": "greatest-palmer",
   "metadata": {},
   "outputs": [],
   "source": [
    "def matriz_asociada(f, dim_V, dim_W):\n",
    "    \n",
    "    A = np.zeros((dim_V,dim_W)) # COMPLETAR: inicializar una matriz nula de tamaño dim_W x dim_V\n",
    "    I = np.eye(dim_V)    # Usamos la matriz identidad de tamaño dim_V, que tiene como fila a la base canónica de V\n",
    "    for i in range(len(I)):\n",
    "        A[:, i] = f(I[i])   # COMPLETAR: a la i-ésima columna de A le asignamos el resultado de evaluar f en la i-ésima fila de I\n",
    "    \n",
    "    return A    "
   ]
  },
  {
   "cell_type": "markdown",
   "id": "signal-consensus",
   "metadata": {},
   "source": [
    "Para probar la función, podés definir ``f`` usando la sintaxis ``lambda``. Por ejemplo, \n",
    "\n",
    "$$f(x_1,x_2)=(0.5x_1 + 0.5x_2, 0.5x_1 + 0.5x_2)$$\n",
    "\n",
    "se define como:"
   ]
  },
  {
   "cell_type": "code",
   "execution_count": 18,
   "id": "acceptable-stations",
   "metadata": {},
   "outputs": [
    {
     "data": {
      "text/plain": [
       "array([[0.5, 0.5],\n",
       "       [0.5, 0.5]])"
      ]
     },
     "execution_count": 18,
     "metadata": {},
     "output_type": "execute_result"
    }
   ],
   "source": [
    "f = lambda x: np.array([0.5*x[0] + 0.5*x[1], 0.5*x[0] + 0.5*x[1]])\n",
    "matriz_asociada(f,2,2)"
   ]
  },
  {
   "cell_type": "markdown",
   "id": "aggregate-company",
   "metadata": {},
   "source": [
    "#### Ejercicio 4\n",
    "\n",
    "Dada $f:V\\rightarrow W$ una t.l., programar en Python:\n",
    "\n",
    "1. Una función que tome como input a ``f``, ``dim_V``, ``dim_W`` y devuelva ``True`` si $f$ es monomorfismo o ``False`` en caso contrario.\n",
    "2. Una función que tome como input a ``f``, ``dim_V``, ``dim_W`` y devuelva ``True`` si $f$ es epimorfismo o ``False`` en caso contrario.\n",
    "3. Una función que tome como input a ``f``, ``dim_V``, ``dim_W`` y devuelva ``True`` si $f$ es isomorfismo o ``False`` en caso contrario.\n",
    "\n",
    "Las funciones no deben hacer cálculos de más. Es decir, deben considerar las dimensiones de $V$ y de $W$ al momento de decidir.\n",
    "Recordar que:\n",
    "- si $dim(V) > dim(W)$, $f$ no puede ser monomorfismo.\n",
    "- si $dim(V) < dim(W)$, $f$ no puede ser epimorfismo.\n",
    "\n",
    "**Sugerencia:** utilizar las funciones del Ejercicio 2 y del Ejercicio 3."
   ]
  },
  {
   "cell_type": "code",
   "execution_count": 19,
   "id": "pleasant-atlantic",
   "metadata": {},
   "outputs": [],
   "source": [
    "def es_monoformismo(f, dim_V, dim_W):\n",
    "    if (dim_V > dim_W):\n",
    "        return false\n",
    "    \n",
    "    return son_li(matriz_asociada(f, dim_V, dim_W))\n",
    "\n",
    "def es_epimorfismo(f, dim_V, dim_W):\n",
    "    if (dim_V < dim_W):\n",
    "        return false\n",
    "\n",
    "    return son_li(matriz_asociada(f, dim_V, dim_W).T)\n",
    "    \n",
    "def es_isomorfismo(f, dim_V, dim_W):\n",
    "    return es_monomorfismo(f, dim_V, dim_W) and es_epimorfismo(f, dim_V, dim_W)"
   ]
  },
  {
   "cell_type": "code",
   "execution_count": null,
   "id": "indoor-beatles",
   "metadata": {},
   "outputs": [],
   "source": []
  }
 ],
 "metadata": {
  "kernelspec": {
   "display_name": "Python 3 (ipykernel)",
   "language": "python",
   "name": "python3"
  },
  "language_info": {
   "codemirror_mode": {
    "name": "ipython",
    "version": 3
   },
   "file_extension": ".py",
   "mimetype": "text/x-python",
   "name": "python",
   "nbconvert_exporter": "python",
   "pygments_lexer": "ipython3",
   "version": "3.9.10"
  }
 },
 "nbformat": 4,
 "nbformat_minor": 5
}
