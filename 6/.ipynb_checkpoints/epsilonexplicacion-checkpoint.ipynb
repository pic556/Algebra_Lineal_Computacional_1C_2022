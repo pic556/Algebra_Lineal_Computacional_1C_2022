{
 "cells": [
  {
   "cell_type": "code",
   "execution_count": 1,
   "id": "4caa8883",
   "metadata": {},
   "outputs": [],
   "source": [
    "import numpy as np"
   ]
  },
  {
   "cell_type": "code",
   "execution_count": 2,
   "id": "ce5f9300",
   "metadata": {},
   "outputs": [
    {
     "name": "stdout",
     "output_type": "stream",
     "text": [
      "2.220446049250313e-16\n"
     ]
    }
   ],
   "source": [
    "eps = np.finfo(float).eps #esto devuelve el epsilon de la máquina\n",
    "print(eps)"
   ]
  },
  {
   "cell_type": "code",
   "execution_count": 3,
   "id": "9de40db5",
   "metadata": {},
   "outputs": [
    {
     "data": {
      "text/plain": [
       "2.220446049250313e-16"
      ]
     },
     "execution_count": 3,
     "metadata": {},
     "output_type": "execute_result"
    }
   ],
   "source": [
    "2**-52"
   ]
  },
  {
   "cell_type": "markdown",
   "id": "66f10886",
   "metadata": {},
   "source": [
    "El $\\varepsilon$ de la máquina es el máximo error relativo de representación que se puede cometer. Eso se puede ejemplificar viendo que $1+\\varepsilon\\neq 1$, pero $1+\\frac{\\varepsilon}{2}=1$:"
   ]
  },
  {
   "cell_type": "code",
   "execution_count": 4,
   "id": "6b9ff9bf",
   "metadata": {},
   "outputs": [
    {
     "data": {
      "text/plain": [
       "1.0000000000000002"
      ]
     },
     "execution_count": 4,
     "metadata": {},
     "output_type": "execute_result"
    }
   ],
   "source": [
    "1+eps"
   ]
  },
  {
   "cell_type": "markdown",
   "id": "ffcb2ec8",
   "metadata": {},
   "source": [
    "$1+\\frac{\\varepsilon}{2}$ es lo mismo que $1+2^{-53}$ que es la cuenta que hicimos en papel y vimos que tiene que dar 1"
   ]
  },
  {
   "cell_type": "code",
   "execution_count": 5,
   "id": "2f7478ad",
   "metadata": {},
   "outputs": [
    {
     "data": {
      "text/plain": [
       "1.0"
      ]
     },
     "execution_count": 5,
     "metadata": {},
     "output_type": "execute_result"
    }
   ],
   "source": [
    "1+eps/2"
   ]
  },
  {
   "cell_type": "markdown",
   "id": "5b7628bb",
   "metadata": {},
   "source": [
    "Pero $\\varepsilon$ no es el número más chico. Se pueden representar cosas mucho menores aprovechando el exponente:"
   ]
  },
  {
   "cell_type": "code",
   "execution_count": 6,
   "id": "2f6f53d2",
   "metadata": {},
   "outputs": [
    {
     "data": {
      "text/plain": [
       "9.332636185032189e-302"
      ]
     },
     "execution_count": 6,
     "metadata": {},
     "output_type": "execute_result"
    }
   ],
   "source": [
    "2**-1000"
   ]
  },
  {
   "cell_type": "markdown",
   "id": "6e5454c9",
   "metadata": {},
   "source": [
    "Estudiemos la raíz de menor módulo de la cuadrática $f(x) = ax^2+bx+c$ con $a=5e-7$, $b=1000$, $c=1e-5$. "
   ]
  },
  {
   "cell_type": "code",
   "execution_count": 7,
   "id": "d7fdd04c",
   "metadata": {},
   "outputs": [],
   "source": [
    "a = 5e-7\n",
    "b = 1000\n",
    "c = 1e-5"
   ]
  },
  {
   "cell_type": "code",
   "execution_count": 8,
   "id": "30805b73",
   "metadata": {},
   "outputs": [],
   "source": [
    "f = lambda x: a*x**2+b*x+c"
   ]
  },
  {
   "cell_type": "code",
   "execution_count": 9,
   "id": "a9743c65",
   "metadata": {},
   "outputs": [
    {
     "name": "stdout",
     "output_type": "stream",
     "text": [
      "0.0\n"
     ]
    }
   ],
   "source": [
    "x1 = (-b+np.sqrt(b**2-4*a*c))/(2*a)\n",
    "print(x1)"
   ]
  },
  {
   "cell_type": "code",
   "execution_count": 10,
   "id": "a0d7d4c2",
   "metadata": {},
   "outputs": [
    {
     "data": {
      "text/plain": [
       "1e-05"
      ]
     },
     "execution_count": 10,
     "metadata": {},
     "output_type": "execute_result"
    }
   ],
   "source": [
    "f(x1)"
   ]
  },
  {
   "cell_type": "markdown",
   "id": "487c6361",
   "metadata": {},
   "source": [
    "Esperaríamos que $f(x_1)=0$ y eso no pasó. Usemos OTRA fórmula para la raíz $x_1$. Multiplico y divido por: $\\sqrt{b^2-4ac}+b$. Queda:\n",
    "$$x_1 = \\frac{\\sqrt{b^2-4ac}-b}{2a}\\frac{\\sqrt{b^2-4ac}+b}{\\sqrt{b^2-4ac}+b}=\\frac{b^2-4ac-b^2}{2a(\\sqrt{b^2-4ac}+b)}=\\frac{-2c}{\\sqrt{b^2-4ac}+b} $$"
   ]
  },
  {
   "cell_type": "code",
   "execution_count": 12,
   "id": "43fadbf9",
   "metadata": {},
   "outputs": [
    {
     "name": "stdout",
     "output_type": "stream",
     "text": [
      "-1e-08\n"
     ]
    }
   ],
   "source": [
    "new_x1 = -2*c/(np.sqrt(b**2-4*a*c)+b)\n",
    "print(new_x1)"
   ]
  },
  {
   "cell_type": "code",
   "execution_count": 13,
   "id": "31320dfd",
   "metadata": {},
   "outputs": [
    {
     "data": {
      "text/plain": [
       "0.0"
      ]
     },
     "execution_count": 13,
     "metadata": {},
     "output_type": "execute_result"
    }
   ],
   "source": [
    "f(new_x1)"
   ]
  },
  {
   "cell_type": "markdown",
   "id": "aa5c846b",
   "metadata": {},
   "source": [
    "El problema era la resta de dos cosas parecidas: $\\sqrt{b^2-4ac}$ y $b$."
   ]
  },
  {
   "cell_type": "code",
   "execution_count": null,
   "id": "9da5717a",
   "metadata": {},
   "outputs": [],
   "source": []
  },
  {
   "cell_type": "code",
   "execution_count": null,
   "id": "a14b7e09",
   "metadata": {},
   "outputs": [],
   "source": []
  }
 ],
 "metadata": {
  "kernelspec": {
   "display_name": "Python 3 (ipykernel)",
   "language": "python",
   "name": "python3"
  },
  "language_info": {
   "codemirror_mode": {
    "name": "ipython",
    "version": 3
   },
   "file_extension": ".py",
   "mimetype": "text/x-python",
   "name": "python",
   "nbconvert_exporter": "python",
   "pygments_lexer": "ipython3",
   "version": "3.9.10"
  }
 },
 "nbformat": 4,
 "nbformat_minor": 5
}
