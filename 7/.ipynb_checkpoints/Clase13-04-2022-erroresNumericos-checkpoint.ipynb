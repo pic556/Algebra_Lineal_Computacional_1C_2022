{
 "cells": [
  {
   "cell_type": "markdown",
   "id": "10a255bb",
   "metadata": {},
   "source": [
    "## Aritmética de punto flotante"
   ]
  },
  {
   "cell_type": "markdown",
   "id": "18fd2104",
   "metadata": {},
   "source": [
    "1. Se quiere calcular \n",
    "$$\n",
    "\\sum_{i=1}^{10^6} \\frac{1}{i} \\quad y \\quad \\sum_{i=1}^{2\\cdot10^6} \\frac{1}{i} \n",
    "$$\n",
    "usando aritmética de simple precisión (float32).\n",
    "\n",
    "Ejecutar los siguientes programas e interpretar los resultados."
   ]
  },
  {
   "cell_type": "code",
   "execution_count": 1,
   "id": "c6a92b2b",
   "metadata": {},
   "outputs": [],
   "source": [
    "import numpy as np"
   ]
  },
  {
   "cell_type": "code",
   "execution_count": 2,
   "id": "1f5d3bab",
   "metadata": {},
   "outputs": [
    {
     "name": "stdout",
     "output_type": "stream",
     "text": [
      "suma =  15.403683\n"
     ]
    }
   ],
   "source": [
    "n = 7\n",
    "s = np.float32(0)\n",
    "for i in range(1,10**n):\n",
    "    s = s + np.float32(1/i)\n",
    "print(\"suma = \", s)"
   ]
  },
  {
   "cell_type": "code",
   "execution_count": 3,
   "id": "c821d69a",
   "metadata": {},
   "outputs": [
    {
     "name": "stdout",
     "output_type": "stream",
     "text": [
      "suma =  15.403683\n"
     ]
    }
   ],
   "source": [
    "s = np.float32(0)\n",
    "for i in range(1,2*10**n):\n",
    "    s = s + np.float32(1/i)\n",
    "print(\"suma = \", s)"
   ]
  },
  {
   "cell_type": "markdown",
   "id": "faf0e7d2",
   "metadata": {},
   "source": [
    "¿Qué modificación harías para reducir los errores numéricos?"
   ]
  },
  {
   "cell_type": "markdown",
   "id": "b0c6bd88",
   "metadata": {},
   "source": [
    "2. Utilizar las mismas estrategias para estimar $e$ mediante la serie\n",
    "$$\n",
    "e \\approx \\sum_{n=0}^{10} \\frac{1}{n!}.\n",
    "$$\n",
    "\n",
    "Comparar con el valor real."
   ]
  },
  {
   "cell_type": "markdown",
   "id": "a6fbe8e2",
   "metadata": {},
   "source": [
    "3. Utilizando la norma-2 de vectores en $R^2$, realizar una simulación para estimar el valor de $\\pi$."
   ]
  },
  {
   "cell_type": "code",
   "execution_count": null,
   "id": "d7795644",
   "metadata": {},
   "outputs": [],
   "source": [
    "count = 0\n",
    "n = 1000000\n",
    "for i in range(n):\n",
    "    x = np.random.rand(2)\n",
    "    if np.linalg.norm(x)<1:\n",
    "        count+=1\n",
    "print(count/n*4)"
   ]
  },
  {
   "cell_type": "markdown",
   "id": "88801a5f",
   "metadata": {},
   "source": [
    "4. El siguiente código suma 1 10^8 veces. ¿Coincide la respuesta con el valor esperado? ¿Es posible modificar el código para calcular el valor correcto?"
   ]
  },
  {
   "cell_type": "code",
   "execution_count": null,
   "id": "98e278ed",
   "metadata": {},
   "outputs": [],
   "source": [
    "c = np.float32(0.0)\n",
    "for i in range(10**8):\n",
    "    c += np.float32(1.0)\n",
    "print(c)"
   ]
  },
  {
   "cell_type": "markdown",
   "id": "5bf52aa0",
   "metadata": {},
   "source": [
    "### Normas de matrices\n",
    "Dada $A = \\begin{pmatrix} 2 & 3 \\\\ 4 & -2 \\end{pmatrix}$, calcular $Ax$ para 1000 puntos de norma infinito menor que 1. Graficar en el plano y estimar la norma infinito de A."
   ]
  },
  {
   "cell_type": "code",
   "execution_count": null,
   "id": "019eeff0",
   "metadata": {},
   "outputs": [],
   "source": [
    "import matplotlib.pyplot as plt\n",
    "\n",
    "A = np.array([[2,3],[4,-2]])\n",
    "n = 1000\n",
    "for i in range(1000):\n",
    "    x = np.random.rand(2)*2 - 1\n",
    "    Ax = A @ x\n",
    "    plt.scatter(Ax[0], Ax[1])\n",
    "plt.show()"
   ]
  },
  {
   "cell_type": "code",
   "execution_count": null,
   "id": "coated-joyce",
   "metadata": {},
   "outputs": [],
   "source": []
  }
 ],
 "metadata": {
  "kernelspec": {
   "display_name": "Python 3 (ipykernel)",
   "language": "python",
   "name": "python3"
  },
  "language_info": {
   "codemirror_mode": {
    "name": "ipython",
    "version": 3
   },
   "file_extension": ".py",
   "mimetype": "text/x-python",
   "name": "python",
   "nbconvert_exporter": "python",
   "pygments_lexer": "ipython3",
   "version": "3.9.7"
  }
 },
 "nbformat": 4,
 "nbformat_minor": 5
}
