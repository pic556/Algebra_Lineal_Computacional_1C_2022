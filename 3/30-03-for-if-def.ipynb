{
 "cells": [
  {
   "cell_type": "markdown",
   "metadata": {},
   "source": [
    "# Temas\n",
    "## 1. Estructuras de control: for\n",
    "## 2. Estructuras de control: if\n",
    "## 2. Definición de funciones: def"
   ]
  },
  {
   "cell_type": "code",
   "execution_count": 6,
   "metadata": {},
   "outputs": [],
   "source": [
    "import numpy as np"
   ]
  },
  {
   "cell_type": "markdown",
   "metadata": {},
   "source": [
    "## Estructuras de control: for\n",
    "### Rangos"
   ]
  },
  {
   "cell_type": "code",
   "execution_count": 7,
   "metadata": {},
   "outputs": [
    {
     "name": "stdout",
     "output_type": "stream",
     "text": [
      "0\n",
      "1\n",
      "2\n",
      "3\n",
      "4\n",
      "5\n",
      "6\n",
      "7\n",
      "8\n",
      "9\n",
      "----\n"
     ]
    }
   ],
   "source": [
    "for i in range(10):\n",
    "    print(i)\n",
    "print(\"----\")"
   ]
  },
  {
   "cell_type": "code",
   "execution_count": 8,
   "metadata": {},
   "outputs": [
    {
     "name": "stdout",
     "output_type": "stream",
     "text": [
      "1\n",
      "2\n",
      "3\n",
      "4\n",
      "5\n",
      "6\n",
      "7\n",
      "8\n",
      "9\n"
     ]
    }
   ],
   "source": [
    "for i in range(1,10):\n",
    "    print(i)"
   ]
  },
  {
   "cell_type": "code",
   "execution_count": 9,
   "metadata": {},
   "outputs": [
    {
     "name": "stdout",
     "output_type": "stream",
     "text": [
      "2\n",
      "4\n",
      "6\n",
      "8\n",
      "10\n",
      "12\n",
      "14\n"
     ]
    }
   ],
   "source": [
    "# Va de 2 en 2\n",
    "for i in range(2,15,2):\n",
    "    print(i)"
   ]
  },
  {
   "cell_type": "code",
   "execution_count": 10,
   "metadata": {},
   "outputs": [
    {
     "name": "stdout",
     "output_type": "stream",
     "text": [
      "15\n",
      "14\n",
      "13\n",
      "12\n",
      "11\n",
      "10\n",
      "9\n",
      "8\n",
      "7\n",
      "6\n",
      "5\n",
      "4\n",
      "3\n"
     ]
    }
   ],
   "source": [
    "for i in range(15,2,-1):\n",
    "    print(i)"
   ]
  },
  {
   "cell_type": "code",
   "execution_count": 11,
   "metadata": {},
   "outputs": [],
   "source": [
    "# Qué va a imprimir esto?\n",
    "for i in range(2,15,-1):\n",
    "    print(i)\n",
    "#no se puede imprimir"
   ]
  },
  {
   "cell_type": "markdown",
   "metadata": {},
   "source": [
    "#### Ejemplo de ciclo for. Prestar especial atención a la indentación para marcar el alcance.\n",
    "\n",
    "Ejemplo: sumar los números naturales del 1 al 10 inclusive.\n",
    "$$\n",
    "\\sum_{i=0}^{10} i\n",
    "$$"
   ]
  },
  {
   "cell_type": "code",
   "execution_count": 12,
   "metadata": {},
   "outputs": [
    {
     "name": "stdout",
     "output_type": "stream",
     "text": [
      "Suma:  55\n"
     ]
    }
   ],
   "source": [
    "suma = 0\n",
    "for i in range(0, 11):\n",
    "    suma = suma + i\n",
    "print(\"Suma: \", suma)\n"
   ]
  },
  {
   "cell_type": "code",
   "execution_count": 13,
   "metadata": {},
   "outputs": [
    {
     "name": "stdout",
     "output_type": "stream",
     "text": [
      "Suma:  0\n",
      "Suma:  1\n",
      "Suma:  3\n",
      "Suma:  6\n",
      "Suma:  10\n",
      "Suma:  15\n",
      "Suma:  21\n",
      "Suma:  28\n",
      "Suma:  36\n",
      "Suma:  45\n",
      "Suma:  55\n"
     ]
    }
   ],
   "source": [
    "suma = 0\n",
    "for i in range(0, 11):\n",
    "    suma = suma + i\n",
    "    print(\"Suma: \", suma)\n"
   ]
  },
  {
   "cell_type": "markdown",
   "metadata": {},
   "source": [
    "Ejemplo: sumar los números del 5 al 1000 inclusive.\n",
    "$$\n",
    "\\sum_{i=5}^{1000} i\n",
    "$$"
   ]
  },
  {
   "cell_type": "code",
   "execution_count": 26,
   "metadata": {},
   "outputs": [
    {
     "name": "stdout",
     "output_type": "stream",
     "text": [
      "500490\n"
     ]
    }
   ],
   "source": [
    "suma = 0\n",
    "for i in range(5,1001):\n",
    "    suma = suma + i\n",
    "print(suma)"
   ]
  },
  {
   "cell_type": "markdown",
   "metadata": {},
   "source": [
    "Ejemplo: sumar los números del 0 al 1000 que sean divisibles por 7."
   ]
  },
  {
   "cell_type": "code",
   "execution_count": 15,
   "metadata": {},
   "outputs": [
    {
     "name": "stdout",
     "output_type": "stream",
     "text": [
      "71071\n"
     ]
    }
   ],
   "source": [
    "suma = 0\n",
    "for i in range (0, 1001, 7):\n",
    "    suma = suma + i\n",
    "print(suma)"
   ]
  },
  {
   "cell_type": "markdown",
   "metadata": {},
   "source": [
    "Ejemplo: sumar los cuadrados de los números naturalesdel 5 al 1000 inclusive.\n",
    "$$\n",
    "\\sum_{i=5}^{1000} i^2\n",
    "$$"
   ]
  },
  {
   "cell_type": "code",
   "execution_count": 16,
   "metadata": {},
   "outputs": [
    {
     "name": "stdout",
     "output_type": "stream",
     "text": [
      "333833470\n"
     ]
    }
   ],
   "source": [
    "suma = 0\n",
    "for i in range(5,1001):\n",
    "    suma = suma + i**2\n",
    "print(suma)"
   ]
  },
  {
   "cell_type": "markdown",
   "metadata": {},
   "source": [
    "### Ejercicio\n",
    "Calcular \n",
    "$$\n",
    "10! = \\prod_{i=1}^{10} i\n",
    "$$"
   ]
  },
  {
   "cell_type": "code",
   "execution_count": 29,
   "metadata": {},
   "outputs": [
    {
     "name": "stdout",
     "output_type": "stream",
     "text": [
      "3628800\n"
     ]
    }
   ],
   "source": [
    "factorial = 1\n",
    "for i in range(1,11):\n",
    "    factorial = factorial * i\n",
    "print(factorial)"
   ]
  },
  {
   "cell_type": "markdown",
   "metadata": {},
   "source": [
    "Calcular \n",
    "$$\\sum_{i=1}^{100} \\frac{1}{i} \\quad \\text{y} \\quad \\sum_{i=1}^{100} \\frac{1}{i^2}$$"
   ]
  },
  {
   "cell_type": "code",
   "execution_count": 31,
   "metadata": {},
   "outputs": [
    {
     "name": "stdout",
     "output_type": "stream",
     "text": [
      "5.187377517639621\n",
      "1.6349839001848923\n"
     ]
    }
   ],
   "source": [
    "suma1 = 0\n",
    "for i in range(1,101):\n",
    "    suma1 = suma1 + 1/i\n",
    "print(suma1)\n",
    "\n",
    "suma2 = 0\n",
    "for i in range(1,101):\n",
    "    suma2 = suma2 + 1/(i**2)\n",
    "print(suma2)"
   ]
  },
  {
   "cell_type": "markdown",
   "metadata": {},
   "source": [
    "### Ejercicio\n",
    "Evaluar:\n",
    "$$\n",
    "\\sum_{i=1}^{15} \\left(\\sum_{j=5}^{20} \\frac{1}{i+j+3}\\right)\n",
    "$$"
   ]
  },
  {
   "cell_type": "code",
   "execution_count": 37,
   "metadata": {},
   "outputs": [
    {
     "name": "stdout",
     "output_type": "stream",
     "text": [
      "11.119334640294317\n"
     ]
    }
   ],
   "source": [
    "suma1 = 0\n",
    "for i in range(1,16):\n",
    "    for j in range(5,21):\n",
    "        suma1= suma1 + 1/(i+j+3)\n",
    "print(suma1)"
   ]
  },
  {
   "cell_type": "markdown",
   "metadata": {},
   "source": [
    "## Estructuras de control: if"
   ]
  },
  {
   "cell_type": "code",
   "execution_count": 17,
   "metadata": {},
   "outputs": [
    {
     "name": "stdout",
     "output_type": "stream",
     "text": [
      "15  es mayor que  5\n"
     ]
    }
   ],
   "source": [
    "a = 15\n",
    "b = 5\n",
    "if(a>b):\n",
    "    print(a, \" es mayor que \", b)"
   ]
  },
  {
   "cell_type": "code",
   "execution_count": 18,
   "metadata": {},
   "outputs": [
    {
     "name": "stdout",
     "output_type": "stream",
     "text": [
      "15  es mayor que  5\n"
     ]
    }
   ],
   "source": [
    "# if - else\n",
    "a = 15\n",
    "b = 5\n",
    "if(a>b):\n",
    "    print(a, \" es mayor que \", b)\n",
    "else:\n",
    "    print(a, \" no es mayor que \", b)"
   ]
  },
  {
   "cell_type": "code",
   "execution_count": 19,
   "metadata": {},
   "outputs": [
    {
     "name": "stdout",
     "output_type": "stream",
     "text": [
      "5  es igual a  5\n"
     ]
    }
   ],
   "source": [
    "# if - elif - else\n",
    "a = 5\n",
    "b = 5\n",
    "if(a>b):\n",
    "    print(a, \" es mayor que \", b)\n",
    "elif (b>a):\n",
    "    print(b, \" es mayor que \", a)\n",
    "else:\n",
    "    print(a, \" es igual a \", b)"
   ]
  },
  {
   "cell_type": "markdown",
   "metadata": {},
   "source": [
    "Ejemplo: otra forma de sumar los números del 0 al 1000 que sean divisibles por 7."
   ]
  },
  {
   "cell_type": "code",
   "execution_count": 20,
   "metadata": {},
   "outputs": [
    {
     "name": "stdout",
     "output_type": "stream",
     "text": [
      "71071\n"
     ]
    }
   ],
   "source": [
    "suma = 0\n",
    "for i in range (0, 1001):\n",
    "    if(i % 7 == 0):     # el simbolo % nos da el resto de la division entera\n",
    "        suma = suma + i\n",
    "print(suma)"
   ]
  },
  {
   "cell_type": "markdown",
   "metadata": {},
   "source": [
    "### Ejercicio\n",
    "- Contar cuántos número naturales entre 1 y 1000 inclusive hay tales que su cuadrado termina en 9."
   ]
  },
  {
   "cell_type": "code",
   "execution_count": 40,
   "metadata": {},
   "outputs": [
    {
     "name": "stdout",
     "output_type": "stream",
     "text": [
      "200\n"
     ]
    }
   ],
   "source": [
    "contar = 0\n",
    "for i in range (1, 1001):\n",
    "    if(i**2 % 10  == 9):     # el simbolo % nos da el resto de la division entera\n",
    "        contar = contar + 1\n",
    "print(contar)"
   ]
  },
  {
   "cell_type": "markdown",
   "metadata": {},
   "source": [
    "### Definición de funciones"
   ]
  },
  {
   "cell_type": "code",
   "execution_count": 21,
   "metadata": {},
   "outputs": [],
   "source": [
    "def suma(a,b):\n",
    "    c = a + b\n",
    "    return(c)"
   ]
  },
  {
   "cell_type": "code",
   "execution_count": 22,
   "metadata": {},
   "outputs": [
    {
     "data": {
      "text/plain": [
       "15"
      ]
     },
     "execution_count": 22,
     "metadata": {},
     "output_type": "execute_result"
    }
   ],
   "source": [
    "suma(3,12)"
   ]
  },
  {
   "cell_type": "code",
   "execution_count": 23,
   "metadata": {},
   "outputs": [
    {
     "name": "stdout",
     "output_type": "stream",
     "text": [
      "9\n"
     ]
    }
   ],
   "source": [
    "d = suma(2,7)\n",
    "print(d)"
   ]
  },
  {
   "cell_type": "code",
   "execution_count": 24,
   "metadata": {},
   "outputs": [],
   "source": [
    "def comparar(a, b):\n",
    "    if(a>b):\n",
    "        print(a, \" es mayor que \", b)\n",
    "    elif (b>a):\n",
    "        print(b, \" es mayor que \", a)\n",
    "    else:\n",
    "        print(a, \" es igual a \", b)"
   ]
  },
  {
   "cell_type": "code",
   "execution_count": 25,
   "metadata": {},
   "outputs": [
    {
     "name": "stdout",
     "output_type": "stream",
     "text": [
      "4  es mayor que  2\n"
     ]
    }
   ],
   "source": [
    "comparar(2,4)"
   ]
  },
  {
   "cell_type": "markdown",
   "metadata": {},
   "source": [
    "### Ejercicios\n",
    "- Realizar el Ejercicio 14 de la Práctica 1.\n",
    "- Escribir un programa que reciba un vector $v$ en $R^n$ y devuelva cuántas coordenadas de $v$ son mayores que 5.\n"
   ]
  },
  {
   "cell_type": "code",
   "execution_count": 45,
   "metadata": {},
   "outputs": [
    {
     "name": "stdout",
     "output_type": "stream",
     "text": [
      "6\n"
     ]
    }
   ],
   "source": [
    "A = np.array([[1, 1, 1], [1, 2, 1], [1, 1, 3]])\n",
    "\n",
    "def traza(M):\n",
    "    traza = 0;\n",
    "    for i in range(len(M)):\n",
    "        traza = traza + M[i][i]\n",
    "    print(traza)\n",
    "    \n",
    "traza(A)"
   ]
  },
  {
   "cell_type": "code",
   "execution_count": 53,
   "metadata": {},
   "outputs": [
    {
     "name": "stdout",
     "output_type": "stream",
     "text": [
      "1\n"
     ]
    }
   ],
   "source": [
    "B = np.array([1, 1, 6])\n",
    "def coordenadasMayoresA5(v):\n",
    "    can5 = 0\n",
    "    for i in range(len(v)):\n",
    "        if v[i]>5:\n",
    "            can5 = can5 + 1\n",
    "    print(can5)\n",
    "coordenadasMayoresA5(B)"
   ]
  },
  {
   "cell_type": "code",
   "execution_count": null,
   "metadata": {},
   "outputs": [],
   "source": []
  }
 ],
 "metadata": {
  "kernelspec": {
   "display_name": "Python 3 (ipykernel)",
   "language": "python",
   "name": "python3"
  },
  "language_info": {
   "codemirror_mode": {
    "name": "ipython",
    "version": 3
   },
   "file_extension": ".py",
   "mimetype": "text/x-python",
   "name": "python",
   "nbconvert_exporter": "python",
   "pygments_lexer": "ipython3",
   "version": "3.8.10"
  }
 },
 "nbformat": 4,
 "nbformat_minor": 2
}
